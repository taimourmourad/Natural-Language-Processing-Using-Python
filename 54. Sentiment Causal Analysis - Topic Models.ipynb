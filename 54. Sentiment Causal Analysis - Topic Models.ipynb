{
 "cells": [
  {
   "cell_type": "code",
   "execution_count": 7,
   "id": "1dac0d08",
   "metadata": {},
   "outputs": [],
   "source": [
    "import pandas as pd\n",
    "import numpy as np\n",
    "import text_normalizer as tn\n",
    "import warnings\n",
    "import nltk\n",
    "\n",
    "warnings.filterwarnings(\"ignore\")"
   ]
  },
  {
   "cell_type": "markdown",
   "id": "3f95235e",
   "metadata": {},
   "source": [
    "# Load and normalize data"
   ]
  },
  {
   "cell_type": "code",
   "execution_count": null,
   "id": "606145b0",
   "metadata": {},
   "outputs": [],
   "source": [
    "dataset = pd.read_csv(r'movie_reviews.csv.bz2',compression='bz2')\n",
    "\n",
    "# take a peek at the data\n",
    "print(dataset.head())\n",
    "reviews = np.array(dataset['review'])\n",
    "sentiments = np.array(dataset['sentiment'])\n",
    "\n",
    "# build train and test datasets\n",
    "train_reviews = reviews[:35000]\n",
    "train_sentiments = sentiments[:35000]\n",
    "test_reviews = reviews[35000:]\n",
    "test_sentiments = sentiments[35000:]\n",
    "\n",
    "# normalize datasets\n",
    "stop_words = nltk.corpus.stopwords.words('english')\n",
    "stop_words.remove('no')\n",
    "stop_words.remove('but')\n",
    "stop_words.remove('not')\n",
    "\n",
    "norm_train_reviews = tn.normalize_corpus(train_reviews, stopwords=stop_words)\n",
    "norm_test_reviews = tn.normalize_corpus(test_reviews, stopwords=stop_words)"
   ]
  },
  {
   "cell_type": "markdown",
   "id": "6b8aa596",
   "metadata": {},
   "source": [
    "## Extract features from positive and negative reviews"
   ]
  },
  {
   "cell_type": "code",
   "execution_count": null,
   "id": "401a47ea",
   "metadata": {},
   "outputs": [],
   "source": [
    "from sklearn.feature_extraction.text import TfidfVectorizer\n",
    "\n",
    "# consolidate all normalized reviews\n",
    "norm_reviews = norm_train_reviews+norm_test_reviews\n",
    "# get tf-idf features for only positive reviews\n",
    "positive_reviews = [review for review, sentiment in zip(norm_reviews, sentiments) if sentiment == 'positive']\n",
    "ptvf = TfidfVectorizer(use_idf=True, min_df=0.02, max_df=0.75, ngram_range=(1, 2), sublinear_tf=True)\n",
    "ptvf_features = ptvf.fit_transform(positive_reviews)\n",
    "# get tf-idf features for only negative reviews\n",
    "negative_reviews = [review for review, sentiment in zip(norm_reviews, sentiments) if sentiment == 'negative']\n",
    "ntvf = TfidfVectorizer(use_idf=True, min_df=0.02, max_df=0.75, ngram_range=(1, 2), sublinear_tf=True)\n",
    "ntvf_features = ntvf.fit_transform(negative_reviews)\n",
    "# view feature set dimensions\n",
    "print(ptvf_features.shape, ntvf_features.shape)"
   ]
  },
  {
   "cell_type": "markdown",
   "id": "bfc91aa2",
   "metadata": {},
   "source": [
    "## Topic Modeling on Reviews"
   ]
  },
  {
   "cell_type": "code",
   "execution_count": null,
   "id": "ccc5cf1f",
   "metadata": {},
   "outputs": [],
   "source": [
    "import pyLDAvis\n",
    "import pyLDAvis.sklearn\n",
    "from sklearn.decomposition import NMF\n",
    "import topic_model_utils as tmu\n",
    "\n",
    "pyLDAvis.enable_notebook()\n",
    "total_topics = 10"
   ]
  },
  {
   "cell_type": "markdown",
   "id": "e213e3ad",
   "metadata": {},
   "source": [
    "## Display and visualize topics for positive reviews"
   ]
  },
  {
   "cell_type": "code",
   "execution_count": null,
   "id": "f76c7095",
   "metadata": {},
   "outputs": [],
   "source": [
    "# build topic model on positive sentiment review features\n",
    "pos_nmf = NMF(n_components=total_topics, solver='cd', max_iter=500,\n",
    "               random_state=42, alpha=.1, l1_ratio=.85)\n",
    "pos_nmf.fit(ptvf_features)      \n",
    "# extract features and component weights\n",
    "pos_feature_names = np.array(ptvf.get_feature_names())\n",
    "pos_weights = pos_nmf.components_\n",
    "# extract and display topics and their components\n",
    "pos_feature_names = np.array(ptvf.get_feature_names())\n",
    "feature_idxs = np.argsort(-pos_weights)[:, :15]\n",
    "topics = [pos_feature_names[idx] for idx in feature_idxs]\n",
    "for idx, topic in enumerate(topics):\n",
    "    print('Topic #'+str(idx+1)+':')\n",
    "    print(', '.join(topic))\n",
    "    print()"
   ]
  },
  {
   "cell_type": "code",
   "execution_count": null,
   "id": "83bac999",
   "metadata": {},
   "outputs": [],
   "source": [
    "pyLDAvis.sklearn.prepare(pos_nmf, ptvf_features, ptvf, mds='mmds')"
   ]
  },
  {
   "cell_type": "markdown",
   "id": "010e0e16",
   "metadata": {},
   "source": [
    "## Display and visualize topics for negative reviews"
   ]
  },
  {
   "cell_type": "code",
   "execution_count": null,
   "id": "74e571eb",
   "metadata": {},
   "outputs": [],
   "source": [
    "# build topic model on negative sentiment review features\n",
    "neg_nmf = NMF(n_components=total_topics, solver='cd', max_iter=500,\n",
    "              random_state=42, alpha=.1, l1_ratio=.85)\n",
    "neg_nmf.fit(ntvf_features)      \n",
    "# extract features and component weights\n",
    "neg_feature_names = ntvf.get_feature_names()\n",
    "neg_weights = neg_nmf.components_\n",
    "# extract and display topics and their components\n",
    "neg_feature_names = np.array(ntvf.get_feature_names())\n",
    "feature_idxs = np.argsort(-neg_weights)[:, :15]\n",
    "topics = [neg_feature_names[idx] for idx in feature_idxs]\n",
    "for idx, topic in enumerate(topics):\n",
    "    print('Topic #'+str(idx+1)+':')\n",
    "    print(', '.join(topic))\n",
    "    print()"
   ]
  },
  {
   "cell_type": "code",
   "execution_count": null,
   "id": "d7fb8d16",
   "metadata": {},
   "outputs": [],
   "source": [
    "pyLDAvis.sklearn.prepare(neg_nmf, ntvf_features, ntvf, mds='mmds')"
   ]
  }
 ],
 "metadata": {
  "kernelspec": {
   "display_name": "Python 3 (ipykernel)",
   "language": "python",
   "name": "python3"
  },
  "language_info": {
   "codemirror_mode": {
    "name": "ipython",
    "version": 3
   },
   "file_extension": ".py",
   "mimetype": "text/x-python",
   "name": "python",
   "nbconvert_exporter": "python",
   "pygments_lexer": "ipython3",
   "version": "3.8.5"
  }
 },
 "nbformat": 4,
 "nbformat_minor": 5
}
