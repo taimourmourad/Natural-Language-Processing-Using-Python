{
 "cells": [
  {
   "cell_type": "markdown",
   "id": "f76440b8",
   "metadata": {},
   "source": [
    "## Load Up Dependencies"
   ]
  },
  {
   "cell_type": "code",
   "execution_count": null,
   "id": "fa56681f",
   "metadata": {},
   "outputs": [],
   "source": [
    "import re\n",
    "import os\n",
    "import time\n",
    "import unicodedata\n",
    "import numpy as np\n",
    "import pandas as pd\n",
    "import contractions\n",
    "import tensorflow as tf\n",
    "import tensorflow_hub as hub\n",
    "from bs4 import BeautifulSoup"
   ]
  },
  {
   "cell_type": "markdown",
   "id": "0d6e662c",
   "metadata": {},
   "source": [
    "## Load and View Dataset"
   ]
  },
  {
   "cell_type": "code",
   "execution_count": null,
   "id": "362bc5e8",
   "metadata": {},
   "outputs": [],
   "source": [
    "dataset = pd.read_csv('movie_reviews.csv.bz2', compression='bz2')\n",
    "dataset.info()"
   ]
  },
  {
   "cell_type": "code",
   "execution_count": null,
   "id": "387c5a3d",
   "metadata": {},
   "outputs": [],
   "source": [
    "dataset['sentiment'] = [1 if sentiment == 'positive' else 0 for sentiment in dataset['sentiment'].values]\n",
    "dataset.head()"
   ]
  },
  {
   "cell_type": "markdown",
   "id": "1ce05e40",
   "metadata": {},
   "source": [
    "## Build train, validation and test datasets"
   ]
  },
  {
   "cell_type": "code",
   "execution_count": null,
   "id": "a91eb2c4",
   "metadata": {},
   "outputs": [],
   "source": [
    "reviews = dataset['review'].values\n",
    "sentiments = dataset['sentiment'].values\n",
    "\n",
    "train_reviews = reviews[:30000]\n",
    "train_sentiments = sentiments[:30000]\n",
    "\n",
    "val_reviews = reviews[30000:35000]\n",
    "val_sentiments = sentiments[30000:35000]\n",
    "\n",
    "test_reviews = reviews[35000:]\n",
    "test_sentiments = sentiments[35000:]\n",
    "train_reviews.shape, val_reviews.shape, test_reviews.shape"
   ]
  },
  {
   "cell_type": "markdown",
   "id": "f6357bdf",
   "metadata": {},
   "source": [
    "## Basic Text Wrangling"
   ]
  },
  {
   "cell_type": "code",
   "execution_count": null,
   "id": "faa5ee0b",
   "metadata": {},
   "outputs": [],
   "source": [
    "def strip_html_tags(text):\n",
    "    soup = BeautifulSoup(text, \"html.parser\")\n",
    "    [s.extract() for s in soup(['iframe', 'script'])]\n",
    "    stripped_text = soup.get_text()\n",
    "    stripped_text = re.sub(r'[\\r|\\n|\\r\\n]+', '\\n', stripped_text)\n",
    "    return stripped_text\n",
    "\n",
    "\n",
    "def remove_accented_chars(text):\n",
    "    text = unicodedata.normalize('NFKD', text).encode('ascii', 'ignore').decode('utf-8', 'ignore')\n",
    "    return text\n",
    "\n",
    "\n",
    "def expand_contractions(text):\n",
    "    return contractions.fix(text)\n",
    "\n",
    "\n",
    "\n",
    "def remove_special_characters(text, remove_digits=False):\n",
    "    pattern = r'[^a-zA-Z0-9\\s]' if not remove_digits else r'[^a-zA-Z\\s]'\n",
    "    text = re.sub(pattern, '', text)\n",
    "    return text\n",
    "\n",
    "\n",
    "def pre_process_document(document):\n",
    "    \n",
    "    # strip HTML\n",
    "    document = strip_html_tags(document)\n",
    "    \n",
    "    # lower case\n",
    "    document = document.lower()\n",
    "    \n",
    "    # remove extra newlines (often might be present in really noisy text)\n",
    "    document = document.translate(document.maketrans(\"\\n\\t\\r\", \"   \"))\n",
    "    \n",
    "    # remove accented characters\n",
    "    document = remove_accented_chars(document)\n",
    "    \n",
    "    # expand contractions    \n",
    "    document = expand_contractions(document)\n",
    "               \n",
    "    # remove special characters and\\or digits    \n",
    "    # insert spaces between special characters to isolate them    \n",
    "    special_char_pattern = re.compile(r'([{.(-)!}])')\n",
    "    document = special_char_pattern.sub(\" \\\\1 \", document)\n",
    "    document = remove_special_characters(document, remove_digits=True)  \n",
    "        \n",
    "    # remove extra whitespace\n",
    "    document = re.sub(' +', ' ', document)\n",
    "    document = document.strip()\n",
    "    \n",
    "    return document\n",
    "\n",
    "\n",
    "pre_process_corpus = np.vectorize(pre_process_document)"
   ]
  },
  {
   "cell_type": "code",
   "execution_count": null,
   "id": "fe8764d4",
   "metadata": {},
   "outputs": [],
   "source": [
    "train_reviews = pre_process_corpus(train_reviews)\n",
    "val_reviews = pre_process_corpus(val_reviews)\n",
    "test_reviews = pre_process_corpus(test_reviews)"
   ]
  },
  {
   "cell_type": "markdown",
   "id": "50d12035",
   "metadata": {},
   "source": [
    "## Build Data Ingestion Functions"
   ]
  },
  {
   "cell_type": "code",
   "execution_count": null,
   "id": "c6d1240c",
   "metadata": {},
   "outputs": [],
   "source": [
    "# Training input on the whole training set with no limit on training epochs.\n",
    "train_input_fn = tf.estimator.inputs.numpy_input_fn(\n",
    "    {'sentence': train_reviews}, train_sentiments, \n",
    "    batch_size=256, num_epochs=None, shuffle=True)"
   ]
  },
  {
   "cell_type": "code",
   "execution_count": null,
   "id": "d0441238",
   "metadata": {},
   "outputs": [],
   "source": [
    "# Prediction on the whole training set.\n",
    "predict_train_input_fn = tf.compat.v1.estimator.inputs.numpy_input_fn(\n",
    "    {'sentence': train_reviews}, train_sentiments, shuffle=False)"
   ]
  },
  {
   "cell_type": "code",
   "execution_count": null,
   "id": "fae3eba2",
   "metadata": {},
   "outputs": [],
   "source": [
    "# Prediction on the whole validation set.\n",
    "predict_val_input_fn = tf.compat.v1.estimator.inputs.numpy_input_fn(\n",
    "    {'sentence': val_reviews}, val_sentiments, shuffle=False)"
   ]
  },
  {
   "cell_type": "code",
   "execution_count": null,
   "id": "bb5055a2",
   "metadata": {},
   "outputs": [],
   "source": [
    "# Prediction on the test set.\n",
    "predict_test_input_fn = tf.compat.v1.estimator.inputs.numpy_input_fn(\n",
    "    {'sentence': test_reviews}, test_sentiments, shuffle=False)"
   ]
  },
  {
   "cell_type": "markdown",
   "id": "35282fb8",
   "metadata": {},
   "source": [
    "## Build Deep Learning Model with Universal Sentence Encoder"
   ]
  },
  {
   "cell_type": "code",
   "execution_count": null,
   "id": "e1e9aade",
   "metadata": {},
   "outputs": [],
   "source": [
    "embedding_feature = hub.text_embedding_column(\n",
    "    key='sentence', \n",
    "    module_spec=\"https://tfhub.dev/google/universal-sentence-encoder/2\",\n",
    "    trainable=False)"
   ]
  },
  {
   "cell_type": "code",
   "execution_count": null,
   "id": "d7058be3",
   "metadata": {},
   "outputs": [],
   "source": [
    "dnn = tf.estimator.DNNClassifier(\n",
    "          hidden_units=[512, 128],\n",
    "          feature_columns=[embedding_feature],\n",
    "          n_classes=2,\n",
    "          activation_fn=tf.nn.relu,\n",
    "          dropout=0.1,\n",
    "          optimizer=tf.optimizers.Adam(learning_rate=0.005))"
   ]
  },
  {
   "cell_type": "markdown",
   "id": "fecd3d01",
   "metadata": {},
   "source": [
    "## Train for approx 12 epochs"
   ]
  },
  {
   "cell_type": "code",
   "execution_count": 1,
   "id": "da595d5d",
   "metadata": {},
   "outputs": [
    {
     "data": {
      "text/plain": [
       "12.8"
      ]
     },
     "execution_count": 1,
     "metadata": {},
     "output_type": "execute_result"
    }
   ],
   "source": [
    "256*1500 / 30000"
   ]
  },
  {
   "cell_type": "code",
   "execution_count": null,
   "id": "83267d15",
   "metadata": {},
   "outputs": [],
   "source": [
    "import time\n",
    "\n",
    "TOTAL_STEPS = 1500\n",
    "STEP_SIZE = 500\n",
    "\n",
    "my_checkpointing_config = tf.estimator.RunConfig(\n",
    "    keep_checkpoint_max = 2,       # Retain the 2 most recent checkpoints.\n",
    ")\n",
    "\n",
    "def train_and_evaluate_with_sentence_encoder(hub_module, train_module=False, path=''):\n",
    "    embedding_feature = hub.text_embedding_column(\n",
    "        key='sentence', module_spec=hub_module, trainable=train_module)\n",
    "  \n",
    "    print()\n",
    "    print('='*100)\n",
    "    print('Training with', hub_module)\n",
    "    print('Trainable is:', train_module)\n",
    "    print('='*100)\n",
    "  \n",
    "    dnn = tf.estimator.DNNClassifier(\n",
    "            hidden_units=[512, 128],\n",
    "            feature_columns=[embedding_feature],\n",
    "            n_classes=2,\n",
    "            activation_fn=tf.nn.relu,\n",
    "            dropout=0.1,\n",
    "            optimizer=tf.train.AdagradOptimizer(learning_rate=0.005),\n",
    "            model_dir=path,\n",
    "            config=my_checkpointing_config)\n",
    "\n",
    "    for step in range(0, TOTAL_STEPS+1, STEP_SIZE):\n",
    "        print('-'*100)\n",
    "        print('Training for step =', step)\n",
    "        start_time = time.time()\n",
    "        dnn.train(input_fn=train_input_fn, steps=STEP_SIZE)\n",
    "        elapsed_time = time.time() - start_time\n",
    "        print('Train Time (s):', elapsed_time)\n",
    "        print('Eval Metrics (Train):', dnn.evaluate(input_fn=predict_train_input_fn))\n",
    "        print('Eval Metrics (Validation):', dnn.evaluate(input_fn=predict_val_input_fn))\n",
    "\n",
    "    train_eval_result = dnn.evaluate(input_fn=predict_train_input_fn)\n",
    "    test_eval_result = dnn.evaluate(input_fn=predict_test_input_fn)\n",
    "\n",
    "    return {\n",
    "      \"Model Dir\": dnn.model_dir,\n",
    "      \"Training Accuracy\": train_eval_result[\"accuracy\"],\n",
    "      \"Test Accuracy\": test_eval_result[\"accuracy\"],\n",
    "      \"Training AUC\": train_eval_result[\"auc\"],\n",
    "      \"Test AUC\": test_eval_result[\"auc\"],\n",
    "      \"Training Precision\": train_eval_result[\"precision\"],\n",
    "      \"Test Precision\": test_eval_result[\"precision\"],\n",
    "      \"Training Recall\": train_eval_result[\"recall\"],\n",
    "      \"Test Recall\": test_eval_result[\"recall\"]\n",
    "    }"
   ]
  },
  {
   "cell_type": "markdown",
   "id": "c86a6917",
   "metadata": {},
   "source": [
    "## Train Deep Learning Models on difference Sentence Encoders"
   ]
  },
  {
   "cell_type": "markdown",
   "id": "6097b878",
   "metadata": {},
   "source": [
    "- NNLM - pre-trained and fine-tuning\n",
    "- USE - pre-trained and fine-tuning"
   ]
  },
  {
   "cell_type": "code",
   "execution_count": null,
   "id": "478be1c9",
   "metadata": {},
   "outputs": [],
   "source": [
    "tf.logging.set_verbosity(tf.logging.ERROR)\n",
    "\n",
    "results = {}\n",
    "\n",
    "results[\"nnlm-en-dim128\"] = train_and_evaluate_with_sentence_encoder(\n",
    "    \"https://tfhub.dev/google/nnlm-en-dim128/1\", path='/storage/models/nnlm-en-dim128_f/')\n",
    "\n",
    "results[\"nnlm-en-dim128-with-training\"] = train_and_evaluate_with_sentence_encoder(\n",
    "    \"https://tfhub.dev/google/nnlm-en-dim128/1\", train_module=True, path='/storage/models/nnlm-en-dim128_t/')\n",
    "\n",
    "results[\"use-512\"] = train_and_evaluate_with_sentence_encoder(\n",
    "    \"https://tfhub.dev/google/universal-sentence-encoder/4\", path='/storage/models/use-512_f/')\n",
    "\n",
    "results[\"use-512-with-training\"] = train_and_evaluate_with_sentence_encoder(\n",
    "    \"https://tfhub.dev/google/universal-sentence-encoder/4\", train_module=True, path='/storage/models/use-512_t/')"
   ]
  },
  {
   "cell_type": "markdown",
   "id": "4a83e39a",
   "metadata": {},
   "source": [
    "## Model Evaluations"
   ]
  },
  {
   "cell_type": "code",
   "execution_count": null,
   "id": "775fe35b",
   "metadata": {},
   "outputs": [],
   "source": [
    "results_df = pd.DataFrame.from_dict(results, orient=\"index\")\n",
    "results_df"
   ]
  },
  {
   "cell_type": "code",
   "execution_count": null,
   "id": "fc9a70da",
   "metadata": {},
   "outputs": [],
   "source": [
    "best_model_dir = results_df[results_df['Test Accuracy'] == results_df['Test Accuracy'].max()]['Model Dir'].values[0]\n",
    "best_model_dir"
   ]
  },
  {
   "cell_type": "code",
   "execution_count": null,
   "id": "7d8cd605",
   "metadata": {},
   "outputs": [],
   "source": [
    "embedding_feature = hub.text_embedding_column(\n",
    "        key='sentence', module_spec=\"https://tfhub.dev/google/universal-sentence-encoder/2\", trainable=True)\n",
    "\n",
    "dnn = tf.estimator.DNNClassifier(\n",
    "            hidden_units=[512, 128],\n",
    "            feature_columns=[embedding_feature],\n",
    "            n_classes=2,\n",
    "            activation_fn=tf.nn.relu,\n",
    "            dropout=0.1,\n",
    "            optimizer=tf.train.AdagradOptimizer(learning_rate=0.005),\n",
    "            model_dir=best_model_dir)\n",
    "dnn"
   ]
  },
  {
   "cell_type": "code",
   "execution_count": null,
   "id": "c748a70c",
   "metadata": {},
   "outputs": [],
   "source": [
    "predictions = get_predictions(estimator=dnn, input_fn=predict_test_input_fn)\n",
    "predictions[:10]"
   ]
  },
  {
   "cell_type": "code",
   "execution_count": 2,
   "id": "4c91cfef",
   "metadata": {},
   "outputs": [
    {
     "name": "stdout",
     "output_type": "stream",
     "text": [
      "Requirement already satisfied: seaborn in /home/tevo/anaconda3/envs/ml/lib/python3.8/site-packages (0.11.2)\r\n",
      "Requirement already satisfied: scipy>=1.0 in /home/tevo/anaconda3/envs/ml/lib/python3.8/site-packages (from seaborn) (1.5.4)\r\n",
      "Requirement already satisfied: matplotlib>=2.2 in /home/tevo/anaconda3/envs/ml/lib/python3.8/site-packages (from seaborn) (3.4.3)\r\n",
      "Requirement already satisfied: numpy>=1.15 in /home/tevo/anaconda3/envs/ml/lib/python3.8/site-packages (from seaborn) (1.19.5)\r\n",
      "Requirement already satisfied: pandas>=0.23 in /home/tevo/anaconda3/envs/ml/lib/python3.8/site-packages (from seaborn) (1.3.3)\r\n",
      "Requirement already satisfied: kiwisolver>=1.0.1 in /home/tevo/anaconda3/envs/ml/lib/python3.8/site-packages (from matplotlib>=2.2->seaborn) (1.3.2)\r\n",
      "Requirement already satisfied: python-dateutil>=2.7 in /home/tevo/anaconda3/envs/ml/lib/python3.8/site-packages (from matplotlib>=2.2->seaborn) (2.8.2)\r\n",
      "Requirement already satisfied: pillow>=6.2.0 in /home/tevo/anaconda3/envs/ml/lib/python3.8/site-packages (from matplotlib>=2.2->seaborn) (8.3.2)\r\n",
      "Requirement already satisfied: cycler>=0.10 in /home/tevo/anaconda3/envs/ml/lib/python3.8/site-packages (from matplotlib>=2.2->seaborn) (0.10.0)\r\n",
      "Requirement already satisfied: pyparsing>=2.2.1 in /home/tevo/.local/lib/python3.8/site-packages (from matplotlib>=2.2->seaborn) (2.4.7)\r\n",
      "Requirement already satisfied: pytz>=2017.3 in /home/tevo/anaconda3/envs/ml/lib/python3.8/site-packages (from pandas>=0.23->seaborn) (2021.3)\r\n",
      "Requirement already satisfied: six in /home/tevo/.local/lib/python3.8/site-packages (from cycler>=0.10->matplotlib>=2.2->seaborn) (1.15.0)\r\n"
     ]
    }
   ],
   "source": [
    "!pip install seaborn"
   ]
  },
  {
   "cell_type": "code",
   "execution_count": null,
   "id": "6a2770d7",
   "metadata": {},
   "outputs": [],
   "source": [
    "import seaborn as sns\n",
    "import matplotlib.pyplot as plt\n",
    "\n",
    "%matplotlib inline\n",
    "\n",
    "with tf.Session() as session:\n",
    "    cm = tf.confusion_matrix(test_sentiments, predictions).eval()\n",
    "\n",
    "LABELS = ['negative', 'positive']\n",
    "sns.heatmap(cm, annot=True, xticklabels=LABELS, yticklabels=LABELS, fmt='g')\n",
    "xl = plt.xlabel(\"Predicted\")\n",
    "yl = plt.ylabel(\"Actuals\")"
   ]
  },
  {
   "cell_type": "code",
   "execution_count": null,
   "id": "5e82c47c",
   "metadata": {},
   "outputs": [],
   "source": [
    "from sklearn.metrics import classification_report\n",
    "\n",
    "print(classification_report(y_true=test_sentiments, y_pred=predictions, target_names=LABELS))"
   ]
  },
  {
   "cell_type": "code",
   "execution_count": null,
   "id": "72b4203f",
   "metadata": {},
   "outputs": [],
   "source": [
    "from sklearn.metrics import classification_report\n",
    "\n",
    "print(classification_report(y_true=test_sentiments, y_pred=predictions, target_names=LABELS))"
   ]
  }
 ],
 "metadata": {
  "kernelspec": {
   "display_name": "Python 3 (ipykernel)",
   "language": "python",
   "name": "python3"
  },
  "language_info": {
   "codemirror_mode": {
    "name": "ipython",
    "version": 3
   },
   "file_extension": ".py",
   "mimetype": "text/x-python",
   "name": "python",
   "nbconvert_exporter": "python",
   "pygments_lexer": "ipython3",
   "version": "3.8.5"
  }
 },
 "nbformat": 4,
 "nbformat_minor": 5
}
