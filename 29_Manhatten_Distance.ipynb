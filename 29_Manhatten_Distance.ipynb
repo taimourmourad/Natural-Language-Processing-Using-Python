{
  "nbformat": 4,
  "nbformat_minor": 0,
  "metadata": {
    "colab": {
      "name": "29. Manhatten Distance",
      "provenance": []
    },
    "kernelspec": {
      "name": "python3",
      "display_name": "Python 3"
    },
    "language_info": {
      "name": "python"
    }
  },
  "cells": [
    {
      "cell_type": "code",
      "metadata": {
        "id": "l9tnuo6s5VDH"
      },
      "source": [
        "import numpy as np\n",
        "import pandas as pd"
      ],
      "execution_count": 1,
      "outputs": []
    },
    {
      "cell_type": "code",
      "metadata": {
        "id": "_9xvtOyw5W9J"
      },
      "source": [
        "def vectorize_terms(terms):\n",
        "    terms = [term.lower() for term in terms]\n",
        "    terms = [np.array(list(term)) for term in terms]\n",
        "    terms = [np.array([ord(char) for char in term]) for term in terms]\n",
        "    return terms\n",
        "\n",
        "root = 'Believe'\n",
        "term1 = 'Beleive'\n",
        "term2 = 'bargain'\n",
        "term3 = 'Elephant'\n",
        "terms = [root, term1, term2, term3]\n",
        "\n",
        "# Character Vectorization\n",
        "term_vectors = vectorize_terms(terms)\n",
        "# Show vector representations\n",
        "vec_df = pd.DataFrame(term_vectors, index=terms)\n",
        "\n",
        "\n",
        "root_term = root\n",
        "other_terms = [term1, term2, term3]\n",
        "\n",
        "root_term_vec = vec_df[vec_df.index==root_term].dropna(axis=1).values[0]\n",
        "other_term_vecs=[vec_df[vec_df.index==term].dropna(axis=1).values[0] for term in other_terms]"
      ],
      "execution_count": 2,
      "outputs": []
    },
    {
      "cell_type": "code",
      "metadata": {
        "id": "E2EROjgP5aia"
      },
      "source": [
        "def manhattan_distance(u, v, norm=False):\n",
        "    if u.shape != v.shape:\n",
        "        raise ValueError('The vectors must have equal lengths.')\n",
        "    return abs(u - v).sum() if not norm else abs(u - v).mean()"
      ],
      "execution_count": 6,
      "outputs": []
    },
    {
      "cell_type": "code",
      "metadata": {
        "colab": {
          "base_uri": "https://localhost:8080/",
          "height": 334
        },
        "id": "zi4nvxx95b-b",
        "outputId": "1dbcd873-5e38-419a-8006-7c90231ab882"
      },
      "source": [
        "for term, term_vector in zip(other_terms, other_term_vecs):\n",
        "    print('Manhattan distance between root: {} and term: {} is {}'.format(root_term,\n",
        "                                                                          term,\n",
        "                                                                          manhattan_distance(root_term_vec, \n",
        "                                                                                             term_vector, norm=False)))"
      ],
      "execution_count": 7,
      "outputs": [
        {
          "output_type": "stream",
          "name": "stdout",
          "text": [
            "Manhattan distance between root: Believe and term: Beleive is 8\n",
            "Manhattan distance between root: Believe and term: bargain is 38\n"
          ]
        },
        {
          "output_type": "error",
          "ename": "ValueError",
          "evalue": "ignored",
          "traceback": [
            "\u001b[0;31m---------------------------------------------------------------------------\u001b[0m",
            "\u001b[0;31mValueError\u001b[0m                                Traceback (most recent call last)",
            "\u001b[0;32m<ipython-input-7-121f10f6ef21>\u001b[0m in \u001b[0;36m<module>\u001b[0;34m()\u001b[0m\n\u001b[1;32m      3\u001b[0m                                                                           \u001b[0mterm\u001b[0m\u001b[0;34m,\u001b[0m\u001b[0;34m\u001b[0m\u001b[0;34m\u001b[0m\u001b[0m\n\u001b[1;32m      4\u001b[0m                                                                           manhattan_distance(root_term_vec, \n\u001b[0;32m----> 5\u001b[0;31m                                                                                              term_vector, norm=False)))\n\u001b[0m",
            "\u001b[0;32m<ipython-input-6-f76af5f725e0>\u001b[0m in \u001b[0;36mmanhattan_distance\u001b[0;34m(u, v, norm)\u001b[0m\n\u001b[1;32m      1\u001b[0m \u001b[0;32mdef\u001b[0m \u001b[0mmanhattan_distance\u001b[0m\u001b[0;34m(\u001b[0m\u001b[0mu\u001b[0m\u001b[0;34m,\u001b[0m \u001b[0mv\u001b[0m\u001b[0;34m,\u001b[0m \u001b[0mnorm\u001b[0m\u001b[0;34m=\u001b[0m\u001b[0;32mFalse\u001b[0m\u001b[0;34m)\u001b[0m\u001b[0;34m:\u001b[0m\u001b[0;34m\u001b[0m\u001b[0;34m\u001b[0m\u001b[0m\n\u001b[1;32m      2\u001b[0m     \u001b[0;32mif\u001b[0m \u001b[0mu\u001b[0m\u001b[0;34m.\u001b[0m\u001b[0mshape\u001b[0m \u001b[0;34m!=\u001b[0m \u001b[0mv\u001b[0m\u001b[0;34m.\u001b[0m\u001b[0mshape\u001b[0m\u001b[0;34m:\u001b[0m\u001b[0;34m\u001b[0m\u001b[0;34m\u001b[0m\u001b[0m\n\u001b[0;32m----> 3\u001b[0;31m         \u001b[0;32mraise\u001b[0m \u001b[0mValueError\u001b[0m\u001b[0;34m(\u001b[0m\u001b[0;34m'The vectors must have equal lengths.'\u001b[0m\u001b[0;34m)\u001b[0m\u001b[0;34m\u001b[0m\u001b[0;34m\u001b[0m\u001b[0m\n\u001b[0m\u001b[1;32m      4\u001b[0m     \u001b[0;32mreturn\u001b[0m \u001b[0mabs\u001b[0m\u001b[0;34m(\u001b[0m\u001b[0mu\u001b[0m \u001b[0;34m-\u001b[0m \u001b[0mv\u001b[0m\u001b[0;34m)\u001b[0m\u001b[0;34m.\u001b[0m\u001b[0msum\u001b[0m\u001b[0;34m(\u001b[0m\u001b[0;34m)\u001b[0m \u001b[0;32mif\u001b[0m \u001b[0;32mnot\u001b[0m \u001b[0mnorm\u001b[0m \u001b[0;32melse\u001b[0m \u001b[0mabs\u001b[0m\u001b[0;34m(\u001b[0m\u001b[0mu\u001b[0m \u001b[0;34m-\u001b[0m \u001b[0mv\u001b[0m\u001b[0;34m)\u001b[0m\u001b[0;34m.\u001b[0m\u001b[0mmean\u001b[0m\u001b[0;34m(\u001b[0m\u001b[0;34m)\u001b[0m\u001b[0;34m\u001b[0m\u001b[0;34m\u001b[0m\u001b[0m\n",
            "\u001b[0;31mValueError\u001b[0m: The vectors must have equal lengths."
          ]
        }
      ]
    },
    {
      "cell_type": "code",
      "metadata": {
        "id": "7rBDMBqM5fRx"
      },
      "source": [
        ""
      ],
      "execution_count": null,
      "outputs": []
    }
  ]
}