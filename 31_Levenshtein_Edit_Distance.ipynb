{
  "nbformat": 4,
  "nbformat_minor": 0,
  "metadata": {
    "colab": {
      "name": "31. Levenshtein Edit Distance",
      "provenance": []
    },
    "kernelspec": {
      "name": "python3",
      "display_name": "Python 3"
    },
    "language_info": {
      "name": "python"
    }
  },
  "cells": [
    {
      "cell_type": "code",
      "metadata": {
        "id": "l9tnuo6s5VDH"
      },
      "source": [
        "import copy\n",
        "import numpy as np\n",
        "import pandas as pd"
      ],
      "execution_count": 12,
      "outputs": []
    },
    {
      "cell_type": "code",
      "metadata": {
        "id": "_9xvtOyw5W9J"
      },
      "source": [
        "def vectorize_terms(terms):\n",
        "    terms = [term.lower() for term in terms]\n",
        "    terms = [np.array(list(term)) for term in terms]\n",
        "    terms = [np.array([ord(char) for char in term]) for term in terms]\n",
        "    return terms\n",
        "\n",
        "root = 'Believe'\n",
        "term1 = 'Beleive'\n",
        "term2 = 'bargain'\n",
        "term3 = 'Elephant'\n",
        "terms = [root, term1, term2, term3]\n",
        "\n",
        "# Character Vectorization\n",
        "term_vectors = vectorize_terms(terms)\n",
        "# Show vector representations\n",
        "vec_df = pd.DataFrame(term_vectors, index=terms)\n",
        "\n",
        "\n",
        "root_term = root\n",
        "other_terms = [term1, term2, term3]\n",
        "\n",
        "root_term_vec = vec_df[vec_df.index==root_term].dropna(axis=1).values[0]\n",
        "other_term_vecs=[vec_df[vec_df.index==term].dropna(axis=1).values[0] for term in other_terms]"
      ],
      "execution_count": 13,
      "outputs": []
    },
    {
      "cell_type": "code",
      "metadata": {
        "id": "7rBDMBqM5fRx"
      },
      "source": [
        "def levenshtein_edit_distance(u, v):#root_term, term(in other_term)\n",
        "    # convert to lower case\n",
        "    u = u.lower()\n",
        "    v = v.lower()\n",
        "    # base cases\n",
        "    if u == v: return 0\n",
        "    elif len(u) == 0: return len(v)\n",
        "    elif len(v) == 0: return len(u)\n",
        "    # initialize edit distance matrix\n",
        "    edit_matrix = []\n",
        "    # initialize two distance matrices \n",
        "    du = [0] * (len(v) + 1)\n",
        "    dv = [0] * (len(v) + 1)\n",
        "    # du: the previous row of edit distances\n",
        "    for i in range(len(du)):\n",
        "        du[i] = i\n",
        "    # dv : the current row of edit distances    \n",
        "    for i in range(len(u)):\n",
        "        dv[0] = i + 1\n",
        "        # compute cost as per algorithm\n",
        "        for j in range(len(v)):\n",
        "            cost = 0 if u[i] == v[j] else 1\n",
        "            dv[j + 1] = min(dv[j] + 1, du[j + 1] + 1, du[j] + cost)\n",
        "        # assign dv to du for next iteration\n",
        "        for j in range(len(du)):\n",
        "            du[j] = dv[j]\n",
        "        # copy dv to the edit matrix\n",
        "        edit_matrix.append(copy.copy(dv))\n",
        "    # compute the final edit distance and edit matrix    \n",
        "    distance = dv[len(v)]\n",
        "    edit_matrix = np.array(edit_matrix)\n",
        "    edit_matrix = edit_matrix.T\n",
        "    edit_matrix = edit_matrix[1:,]\n",
        "    edit_matrix = pd.DataFrame(data=edit_matrix,\n",
        "                               index=list(v),\n",
        "                               columns=list(u))\n",
        "    return distance, edit_matrix"
      ],
      "execution_count": 14,
      "outputs": []
    },
    {
      "cell_type": "code",
      "metadata": {
        "colab": {
          "base_uri": "https://localhost:8080/"
        },
        "id": "uh6E5kJ76ZiK",
        "outputId": "b4528e60-ebf6-403d-d71c-1452b6eef30d"
      },
      "source": [
        "for term in other_terms:\n",
        "    edit_d, edit_m = levenshtein_edit_distance(root_term, term)\n",
        "    print('Computing distance between root: {} and term: {}'.format(root_term,\n",
        "                                                                    term))\n",
        "    print('Levenshtein edit distance is {}'.format(edit_d))\n",
        "    print('The complete edit distance matrix is depicted below')\n",
        "    print(edit_m)\n",
        "    print('-'*30)"
      ],
      "execution_count": 15,
      "outputs": [
        {
          "output_type": "stream",
          "name": "stdout",
          "text": [
            "Computing distance between root: Believe and term: Beleive\n",
            "Levenshtein edit distance is 2\n",
            "The complete edit distance matrix is depicted below\n",
            "   b  e  l  i  e  v  e\n",
            "b  0  1  2  3  4  5  6\n",
            "e  1  0  1  2  3  4  5\n",
            "l  2  1  0  1  2  3  4\n",
            "e  3  2  1  1  1  2  3\n",
            "i  4  3  2  1  2  2  3\n",
            "v  5  4  3  2  2  2  3\n",
            "e  6  5  4  3  2  3  2\n",
            "------------------------------\n",
            "Computing distance between root: Believe and term: bargain\n",
            "Levenshtein edit distance is 6\n",
            "The complete edit distance matrix is depicted below\n",
            "   b  e  l  i  e  v  e\n",
            "b  0  1  2  3  4  5  6\n",
            "a  1  1  2  3  4  5  6\n",
            "r  2  2  2  3  4  5  6\n",
            "g  3  3  3  3  4  5  6\n",
            "a  4  4  4  4  4  5  6\n",
            "i  5  5  5  4  5  5  6\n",
            "n  6  6  6  5  5  6  6\n",
            "------------------------------\n",
            "Computing distance between root: Believe and term: Elephant\n",
            "Levenshtein edit distance is 7\n",
            "The complete edit distance matrix is depicted below\n",
            "   b  e  l  i  e  v  e\n",
            "e  1  1  2  3  4  5  6\n",
            "l  2  2  1  2  3  4  5\n",
            "e  3  2  2  2  2  3  4\n",
            "p  4  3  3  3  3  3  4\n",
            "h  5  4  4  4  4  4  4\n",
            "a  6  5  5  5  5  5  5\n",
            "n  7  6  6  6  6  6  6\n",
            "t  8  7  7  7  7  7  7\n",
            "------------------------------\n"
          ]
        }
      ]
    },
    {
      "cell_type": "code",
      "metadata": {
        "id": "hrJv4eGJ6a8g"
      },
      "source": [
        ""
      ],
      "execution_count": null,
      "outputs": []
    }
  ]
}