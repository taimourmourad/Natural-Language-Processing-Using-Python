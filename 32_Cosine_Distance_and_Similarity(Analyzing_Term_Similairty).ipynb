{
  "nbformat": 4,
  "nbformat_minor": 0,
  "metadata": {
    "colab": {
      "name": "32. Cosine Distance and Similarity(Analyzing Term Similairty)",
      "provenance": []
    },
    "kernelspec": {
      "name": "python3",
      "display_name": "Python 3"
    },
    "language_info": {
      "name": "python"
    }
  },
  "cells": [
    {
      "cell_type": "code",
      "metadata": {
        "id": "hrJv4eGJ6a8g"
      },
      "source": [
        "import numpy as np\n",
        "from scipy.stats import itemfreq\n",
        "import pandas as pd"
      ],
      "execution_count": 20,
      "outputs": []
    },
    {
      "cell_type": "code",
      "metadata": {
        "id": "xRqlVWw7A5MU"
      },
      "source": [
        "def vectorize_terms(terms):\n",
        "    terms = [term.lower() for term in terms]\n",
        "    terms = [np.array(list(term)) for term in terms]\n",
        "    terms = [np.array([ord(char) for char in term]) for term in terms]\n",
        "    return terms\n",
        "\n",
        "root = 'Believe'\n",
        "term1 = 'Beleive'\n",
        "term2 = 'bargain'\n",
        "term3 = 'Elephant'\n",
        "terms = [root, term1, term2, term3]\n",
        "\n",
        "# Character Vectorization\n",
        "term_vectors = vectorize_terms(terms)\n",
        "# Show vector representations\n",
        "vec_df = pd.DataFrame(term_vectors, index=terms)\n",
        "\n",
        "\n",
        "root_term = root\n",
        "other_terms = [term1, term2, term3]\n",
        "\n",
        "root_term_vec = vec_df[vec_df.index==root_term].dropna(axis=1).values[0]\n",
        "other_term_vecs=[vec_df[vec_df.index==term].dropna(axis=1).values[0] for term in other_terms]"
      ],
      "execution_count": 21,
      "outputs": []
    },
    {
      "cell_type": "code",
      "metadata": {
        "id": "DrTppxWEA6pv"
      },
      "source": [
        "def boc_term_vectors(word_list):\n",
        "    word_list = [word.lower() for word in word_list]\n",
        "    unique_chars = np.unique(\n",
        "                        np.hstack([list(word) \n",
        "                        for word in word_list]))\n",
        "    word_list_term_counts = [{char: count \n",
        "                                  for char, count in np.stack(\n",
        "                                                         np.unique(list(word), \n",
        "                                                                   return_counts=True),\n",
        "                                                         axis=1)}\n",
        "                                 for word in word_list]\n",
        "    \n",
        "    boc_vectors = [np.array([int(word_term_counts.get(char, 0)) \n",
        "                            for char in unique_chars])\n",
        "                   for word_term_counts in word_list_term_counts]\n",
        "    return list(unique_chars), boc_vectors"
      ],
      "execution_count": 22,
      "outputs": []
    },
    {
      "cell_type": "code",
      "metadata": {
        "colab": {
          "base_uri": "https://localhost:8080/"
        },
        "id": "yw3E9bYGBLKz",
        "outputId": "1a108b21-b7d8-4521-c6d8-8f6135062289"
      },
      "source": [
        "# Bag of characters vectorization\n",
        "\n",
        "feature_names, feature_vectors = boc_term_vectors(terms)\n",
        "boc_df = pd.DataFrame(feature_vectors, columns=feature_names, index=terms)\n",
        "print(boc_df)"
      ],
      "execution_count": 24,
      "outputs": [
        {
          "output_type": "stream",
          "name": "stdout",
          "text": [
            "          a  b  e  g  h  i  l  n  p  r  t  v\n",
            "Believe   0  1  3  0  0  1  1  0  0  0  0  1\n",
            "Beleive   0  1  3  0  0  1  1  0  0  0  0  1\n",
            "bargain   2  1  0  1  0  1  0  1  0  1  0  0\n",
            "Elephant  1  0  2  0  1  0  1  1  1  0  1  0\n"
          ]
        }
      ]
    },
    {
      "cell_type": "code",
      "metadata": {
        "id": "1ytUVJ3UA8kn"
      },
      "source": [
        "root_term_boc = boc_df[vec_df.index == root_term].values[0]\n",
        "other_term_bocs = [boc_df[vec_df.index == term]\n",
        "                   .values[0]\n",
        "                      for term in other_terms]"
      ],
      "execution_count": 25,
      "outputs": []
    },
    {
      "cell_type": "code",
      "metadata": {
        "id": "aHbgHNahA-iu"
      },
      "source": [
        "def cosine_distance(u, v):\n",
        "    distance = 1.0 - (np.dot(u, v) / \n",
        "                        (np.sqrt(sum(np.square(u))) * np.sqrt(sum(np.square(v))))\n",
        "                     )\n",
        "    return distance"
      ],
      "execution_count": 26,
      "outputs": []
    },
    {
      "cell_type": "code",
      "metadata": {
        "colab": {
          "base_uri": "https://localhost:8080/"
        },
        "id": "9owYcCnsBROm",
        "outputId": "20e28912-61df-41b4-da2b-c38a7febfdaf"
      },
      "source": [
        "for term, boc_term in zip(other_terms, other_term_bocs):\n",
        "    print('Analyzing similarity between root: {} and term: {}'.format(root_term,\n",
        "                                                                      term))\n",
        "    distance = round(cosine_distance(root_term_boc, boc_term), 2)\n",
        "    similarity = round(1 - distance, 2)                                                           \n",
        "    print('Cosine distance  is {}'.format(distance))\n",
        "    print('Cosine similarity  is {}'.format(similarity))\n",
        "    print('-'*40)"
      ],
      "execution_count": 27,
      "outputs": [
        {
          "output_type": "stream",
          "name": "stdout",
          "text": [
            "Analyzing similarity between root: Believe and term: Beleive\n",
            "Cosine distance  is -0.0\n",
            "Cosine similarity  is 1.0\n",
            "----------------------------------------\n",
            "Analyzing similarity between root: Believe and term: bargain\n",
            "Cosine distance  is 0.82\n",
            "Cosine similarity  is 0.18\n",
            "----------------------------------------\n",
            "Analyzing similarity between root: Believe and term: Elephant\n",
            "Cosine distance  is 0.39\n",
            "Cosine similarity  is 0.61\n",
            "----------------------------------------\n"
          ]
        }
      ]
    },
    {
      "cell_type": "code",
      "metadata": {
        "id": "DHSLazxWBS17"
      },
      "source": [
        ""
      ],
      "execution_count": null,
      "outputs": []
    }
  ]
}