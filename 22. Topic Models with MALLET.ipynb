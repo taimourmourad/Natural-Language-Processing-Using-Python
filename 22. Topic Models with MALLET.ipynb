{
 "cells": [
  {
   "cell_type": "code",
   "execution_count": 1,
   "metadata": {},
   "outputs": [
    {
     "name": "stderr",
     "output_type": "stream",
     "text": [
      "C:\\Users\\Mido\\Anaconda3\\lib\\site-packages\\pandas\\compat\\_optional.py:138: UserWarning: Pandas requires version '2.7.0' or newer of 'numexpr' (version '2.6.9' currently installed).\n",
      "  warnings.warn(msg, UserWarning)\n",
      "C:\\Users\\Mido\\Anaconda3\\lib\\site-packages\\sklearn\\feature_extraction\\image.py:167: DeprecationWarning: `np.int` is a deprecated alias for the builtin `int`. To silence this warning, use `int` by itself. Doing this will not modify any behavior and is safe. When replacing `np.int`, you may wish to use e.g. `np.int64` or `np.int32` to specify the precision. If you wish to review your current use, check the release note link for additional information.\n",
      "Deprecated in NumPy 1.20; for more details and guidance: https://numpy.org/devdocs/release/1.20.0-notes.html#deprecations\n",
      "  dtype=np.int):\n",
      "C:\\Users\\Mido\\Anaconda3\\lib\\site-packages\\sklearn\\linear_model\\least_angle.py:35: DeprecationWarning: `np.float` is a deprecated alias for the builtin `float`. To silence this warning, use `float` by itself. Doing this will not modify any behavior and is safe. If you specifically wanted the numpy scalar type, use `np.float64` here.\n",
      "Deprecated in NumPy 1.20; for more details and guidance: https://numpy.org/devdocs/release/1.20.0-notes.html#deprecations\n",
      "  eps=np.finfo(np.float).eps,\n",
      "C:\\Users\\Mido\\Anaconda3\\lib\\site-packages\\sklearn\\linear_model\\least_angle.py:597: DeprecationWarning: `np.float` is a deprecated alias for the builtin `float`. To silence this warning, use `float` by itself. Doing this will not modify any behavior and is safe. If you specifically wanted the numpy scalar type, use `np.float64` here.\n",
      "Deprecated in NumPy 1.20; for more details and guidance: https://numpy.org/devdocs/release/1.20.0-notes.html#deprecations\n",
      "  eps=np.finfo(np.float).eps, copy_X=True, fit_path=True,\n",
      "C:\\Users\\Mido\\Anaconda3\\lib\\site-packages\\sklearn\\linear_model\\least_angle.py:836: DeprecationWarning: `np.float` is a deprecated alias for the builtin `float`. To silence this warning, use `float` by itself. Doing this will not modify any behavior and is safe. If you specifically wanted the numpy scalar type, use `np.float64` here.\n",
      "Deprecated in NumPy 1.20; for more details and guidance: https://numpy.org/devdocs/release/1.20.0-notes.html#deprecations\n",
      "  eps=np.finfo(np.float).eps, copy_X=True, fit_path=True,\n",
      "C:\\Users\\Mido\\Anaconda3\\lib\\site-packages\\sklearn\\linear_model\\least_angle.py:862: DeprecationWarning: `np.float` is a deprecated alias for the builtin `float`. To silence this warning, use `float` by itself. Doing this will not modify any behavior and is safe. If you specifically wanted the numpy scalar type, use `np.float64` here.\n",
      "Deprecated in NumPy 1.20; for more details and guidance: https://numpy.org/devdocs/release/1.20.0-notes.html#deprecations\n",
      "  eps=np.finfo(np.float).eps, positive=False):\n",
      "C:\\Users\\Mido\\Anaconda3\\lib\\site-packages\\sklearn\\linear_model\\least_angle.py:1097: DeprecationWarning: `np.float` is a deprecated alias for the builtin `float`. To silence this warning, use `float` by itself. Doing this will not modify any behavior and is safe. If you specifically wanted the numpy scalar type, use `np.float64` here.\n",
      "Deprecated in NumPy 1.20; for more details and guidance: https://numpy.org/devdocs/release/1.20.0-notes.html#deprecations\n",
      "  max_n_alphas=1000, n_jobs=None, eps=np.finfo(np.float).eps,\n",
      "C:\\Users\\Mido\\Anaconda3\\lib\\site-packages\\sklearn\\linear_model\\least_angle.py:1344: DeprecationWarning: `np.float` is a deprecated alias for the builtin `float`. To silence this warning, use `float` by itself. Doing this will not modify any behavior and is safe. If you specifically wanted the numpy scalar type, use `np.float64` here.\n",
      "Deprecated in NumPy 1.20; for more details and guidance: https://numpy.org/devdocs/release/1.20.0-notes.html#deprecations\n",
      "  max_n_alphas=1000, n_jobs=None, eps=np.finfo(np.float).eps,\n",
      "C:\\Users\\Mido\\Anaconda3\\lib\\site-packages\\sklearn\\linear_model\\least_angle.py:1480: DeprecationWarning: `np.float` is a deprecated alias for the builtin `float`. To silence this warning, use `float` by itself. Doing this will not modify any behavior and is safe. If you specifically wanted the numpy scalar type, use `np.float64` here.\n",
      "Deprecated in NumPy 1.20; for more details and guidance: https://numpy.org/devdocs/release/1.20.0-notes.html#deprecations\n",
      "  eps=np.finfo(np.float).eps, copy_X=True, positive=False):\n",
      "C:\\Users\\Mido\\Anaconda3\\lib\\site-packages\\sklearn\\linear_model\\randomized_l1.py:152: DeprecationWarning: `np.float` is a deprecated alias for the builtin `float`. To silence this warning, use `float` by itself. Doing this will not modify any behavior and is safe. If you specifically wanted the numpy scalar type, use `np.float64` here.\n",
      "Deprecated in NumPy 1.20; for more details and guidance: https://numpy.org/devdocs/release/1.20.0-notes.html#deprecations\n",
      "  precompute=False, eps=np.finfo(np.float).eps,\n",
      "C:\\Users\\Mido\\Anaconda3\\lib\\site-packages\\sklearn\\linear_model\\randomized_l1.py:320: DeprecationWarning: `np.float` is a deprecated alias for the builtin `float`. To silence this warning, use `float` by itself. Doing this will not modify any behavior and is safe. If you specifically wanted the numpy scalar type, use `np.float64` here.\n",
      "Deprecated in NumPy 1.20; for more details and guidance: https://numpy.org/devdocs/release/1.20.0-notes.html#deprecations\n",
      "  eps=np.finfo(np.float).eps, random_state=None,\n",
      "C:\\Users\\Mido\\Anaconda3\\lib\\site-packages\\sklearn\\linear_model\\randomized_l1.py:580: DeprecationWarning: `np.float` is a deprecated alias for the builtin `float`. To silence this warning, use `float` by itself. Doing this will not modify any behavior and is safe. If you specifically wanted the numpy scalar type, use `np.float64` here.\n",
      "Deprecated in NumPy 1.20; for more details and guidance: https://numpy.org/devdocs/release/1.20.0-notes.html#deprecations\n",
      "  eps=4 * np.finfo(np.float).eps, n_jobs=None,\n"
     ]
    }
   ],
   "source": [
    "import os \n",
    "import numpy as np\n",
    "import pandas as pd\n",
    "import nltk"
   ]
  },
  {
   "cell_type": "markdown",
   "metadata": {},
   "source": [
    "# Data Retrieval"
   ]
  },
  {
   "cell_type": "code",
   "execution_count": 2,
   "metadata": {},
   "outputs": [
    {
     "data": {
      "text/plain": [
       "('nips12raw_str602', <http.client.HTTPMessage at 0x252a6be0eb8>)"
      ]
     },
     "execution_count": 2,
     "metadata": {},
     "output_type": "execute_result"
    }
   ],
   "source": [
    "import urllib.request\n",
    "\n",
    "url = 'https://cs.nyu.edu/~roweis/data/nips12raw_str602.tgz'\n",
    "filename = 'nips12raw_str602'\n",
    "urllib.request.urlretrieve(url, filename)"
   ]
  },
  {
   "cell_type": "code",
   "execution_count": 3,
   "metadata": {},
   "outputs": [],
   "source": [
    "!tar -xzf nips12raw_str602"
   ]
  },
  {
   "cell_type": "code",
   "execution_count": 4,
   "metadata": {},
   "outputs": [
    {
     "name": "stdout",
     "output_type": "stream",
     "text": [
      "['idx', 'MATLAB_NOTES', 'nips00', 'nips01', 'nips02', 'nips03', 'nips04', 'nips05', 'nips06', 'nips07', 'nips08', 'nips09', 'nips10', 'nips11', 'nips12', 'orig', 'RAW_DATA_NOTES', 'README_yann']\n"
     ]
    }
   ],
   "source": [
    "DATA_PATH = 'nipstxt/'\n",
    "print(os.listdir(DATA_PATH))"
   ]
  },
  {
   "cell_type": "markdown",
   "metadata": {},
   "source": [
    "# Load and View Dataset"
   ]
  },
  {
   "cell_type": "code",
   "execution_count": 5,
   "metadata": {},
   "outputs": [
    {
     "data": {
      "text/plain": [
       "1740"
      ]
     },
     "execution_count": 5,
     "metadata": {},
     "output_type": "execute_result"
    }
   ],
   "source": [
    "folders = ['nips{0:02}'.format(i) for i in range(0, 13)]\n",
    "# Read all texts into a list\n",
    "papers = []\n",
    "for folder in folders:\n",
    "    file_names = os.listdir(DATA_PATH + folder)\n",
    "    for file_name in file_names:\n",
    "        with open(DATA_PATH + folder + '/' + file_name, encoding='utf-8', errors='ignore', mode='r+') as f:#seperate 'em with /\n",
    "            data = f.read()\n",
    "        papers.append(data)\n",
    "len(papers)        "
   ]
  },
  {
   "cell_type": "markdown",
   "metadata": {},
   "source": [
    " However, it looks like the OCR hasn’t worked perfectly and we have\n",
    "some missing characters here and there. This is expected, but also makes this task more\n",
    "challenging!"
   ]
  },
  {
   "cell_type": "code",
   "execution_count": 6,
   "metadata": {},
   "outputs": [
    {
     "name": "stdout",
     "output_type": "stream",
     "text": [
      "1 \n",
      "CONNECTIVITY VERSUS ENTROPY \n",
      "Yaser S. Abu-Mostafa \n",
      "California Institute of Technology \n",
      "Pasadena, CA 91125 \n",
      "ABSTRACT \n",
      "How does the connectivity of a neural network (number of synapses per \n",
      "neuron) relate to the complexity of the problems it can handle (measured by \n",
      "the entropy)? Switching theory would suggest no relation at all, since all Boolean \n",
      "functions can be implemented using a circuit with very low connectivity (e.g., \n",
      "using two-input NAND gates). However, for a network that learns a problem \n",
      "from examples using a local learning rule, we prove that the entropy of the \n",
      "problem becomes a lower bound for the connectivity of the network. \n",
      "INTRODUCTION \n",
      "The most distinguishing feature of neural networks is their ability to spon- \n",
      "taneously learn the desired function from 'training' samples, i.e., their ability \n",
      "to program themselves. Clearly, a given neural network cannot just learn any \n",
      "function, there must be some restrictions on which networks can learn which \n",
      "functions. One obv\n"
     ]
    }
   ],
   "source": [
    "print(papers[0][:1000])"
   ]
  },
  {
   "cell_type": "markdown",
   "metadata": {},
   "source": [
    "# Basic Text Wrangling"
   ]
  },
  {
   "cell_type": "code",
   "execution_count": 7,
   "metadata": {},
   "outputs": [],
   "source": [
    "stop_words = nltk.corpus.stopwords.words('english')\n",
    "wtk = nltk.tokenize.RegexpTokenizer(r'\\w+')#any word\n",
    "wnl = nltk.stem.wordnet.WordNetLemmatizer()\n",
    "\n",
    "def normalize_corpus(papers):\n",
    "    norm_papers = []\n",
    "    for paper in papers:\n",
    "        paper = paper.lower()\n",
    "        paper_tokens = [token.strip() for token in wtk.tokenize(paper)]# word tokenization\n",
    "        paper_tokens = [wnl.lemmatize(token) for token in paper_tokens if not token.isnumeric()]\n",
    "        paper_tokens = [token for token in paper_tokens if len(token) > 1]\n",
    "        paper_tokens = [token for token in paper_tokens if token not in stop_words]\n",
    "        paper_tokens = list(filter(None, paper_tokens))\n",
    "        if paper_tokens:\n",
    "            norm_papers.append(paper_tokens)\n",
    "            \n",
    "    return norm_papers"
   ]
  },
  {
   "cell_type": "code",
   "execution_count": 8,
   "metadata": {},
   "outputs": [
    {
     "name": "stdout",
     "output_type": "stream",
     "text": [
      "1740\n"
     ]
    }
   ],
   "source": [
    "norm_papers = normalize_corpus(papers)\n",
    "print(len(norm_papers))"
   ]
  },
  {
   "cell_type": "code",
   "execution_count": 9,
   "metadata": {},
   "outputs": [
    {
     "name": "stdout",
     "output_type": "stream",
     "text": [
      "['connectivity', 'versus', 'entropy', 'yaser', 'abu', 'mostafa', 'california', 'institute', 'technology', 'pasadena', 'ca', 'abstract', 'doe', 'connectivity', 'neural', 'network', 'number', 'synapsis', 'per', 'neuron', 'relate', 'complexity', 'problem', 'handle', 'measured', 'entropy', 'switching', 'theory', 'would', 'suggest', 'relation', 'since', 'boolean', 'function', 'implemented', 'using', 'circuit', 'low', 'connectivity', 'using', 'two', 'input', 'nand', 'gate', 'however', 'network', 'learns', 'problem', 'example', 'using']\n"
     ]
    }
   ],
   "source": [
    "# Viewing a processed paper\n",
    "print(norm_papers[0][:50])"
   ]
  },
  {
   "cell_type": "markdown",
   "metadata": {},
   "source": [
    "We are now ready to start building topic models"
   ]
  },
  {
   "cell_type": "markdown",
   "metadata": {},
   "source": [
    "Without further ado, let’s get started by looking at ways to generate phrases with\n",
    "influential bi-grams and remove some terms that may not be useful before feature\n",
    "engineering."
   ]
  },
  {
   "cell_type": "markdown",
   "metadata": {},
   "source": [
    "# Text Representation with Featuer Engineering"
   ]
  },
  {
   "cell_type": "markdown",
   "metadata": {},
   "source": [
    "Before feature engineering and vectorization, we want to extract some useful bi-gram\n",
    "based phrases from our research papers and remove some unnecessary terms"
   ]
  },
  {
   "cell_type": "code",
   "execution_count": 10,
   "metadata": {},
   "outputs": [
    {
     "name": "stdout",
     "output_type": "stream",
     "text": [
      "['connectivity', 'versus', 'entropy', 'yaser', 'abu_mostafa', 'california_institute', 'technology_pasadena', 'ca_abstract', 'doe', 'connectivity', 'neural_network', 'number', 'synapsis', 'per', 'neuron', 'relate', 'complexity', 'problem', 'handle', 'measured', 'entropy', 'switching', 'theory', 'would', 'suggest', 'relation', 'since', 'boolean_function', 'implemented', 'using', 'circuit', 'low', 'connectivity', 'using', 'two', 'input', 'nand', 'gate', 'however', 'network', 'learns', 'problem', 'example', 'using', 'local', 'learning', 'rule', 'prove', 'entropy', 'problem']\n"
     ]
    }
   ],
   "source": [
    "import gensim\n",
    "\n",
    "bigram = gensim.models.Phrases(norm_papers, min_count=20, threshold=20, delimiter=b'_') # higher threshold fewer phrases.\n",
    "bigram_model = gensim.models.phrases.Phraser(bigram)\n",
    "\n",
    "print(bigram_model[norm_papers[0]][:50])"
   ]
  },
  {
   "cell_type": "markdown",
   "metadata": {},
   "source": [
    "Let’s generate phrases for all our tokenized research papers and build a vocabulary\n",
    "that will help us obtain a unique term/phrase to number mapping"
   ]
  },
  {
   "cell_type": "code",
   "execution_count": 11,
   "metadata": {},
   "outputs": [
    {
     "name": "stdout",
     "output_type": "stream",
     "text": [
      "Sample word to number mappings:  [(0, '0a'), (1, '2h'), (2, '2h2'), (3, '2he'), (4, '2n'), (5, '__c'), (6, '_c'), (7, '_k'), (8, 'a2'), (9, 'ability'), (10, 'abu_mostafa'), (11, 'access'), (12, 'accommodate'), (13, 'according'), (14, 'accumulated')]\n",
      "Total Vocabulary Size:  78892\n"
     ]
    }
   ],
   "source": [
    "norm_corpus_bigrams = [bigram_model[doc] for doc in norm_papers]\n",
    "\n",
    "# Create a dictionary representationi of the docuemnts:\n",
    "dictionary = gensim.corpora.Dictionary(norm_corpus_bigrams)\n",
    "print('Sample word to number mappings: ', list(dictionary.items())[:15])\n",
    "print('Total Vocabulary Size: ', len(dictionary))"
   ]
  },
  {
   "cell_type": "markdown",
   "metadata": {},
   "source": [
    "we have a lot of unique phrases in our corpus of research papers,\n",
    "based on the preceding output. Several of these terms are not very useful since they are\n",
    "specific to a paper or even a paragraph in a research paper"
   ]
  },
  {
   "cell_type": "markdown",
   "metadata": {},
   "source": [
    "Hence, it is time to prune\n",
    "our vocabulary and start removing terms. Leveraging document frequency is a great way\n",
    "to achieve this"
   ]
  },
  {
   "cell_type": "code",
   "execution_count": 12,
   "metadata": {},
   "outputs": [
    {
     "name": "stdout",
     "output_type": "stream",
     "text": [
      "Total Vocabulary Size:  7756\n"
     ]
    }
   ],
   "source": [
    "# fitler out words that occur less than 20 documents or more than 50% of the documents\n",
    "dictionary.filter_extremes(no_below=20, no_above=0.6)\n",
    "print('Total Vocabulary Size: ', len(dictionary))"
   ]
  },
  {
   "cell_type": "markdown",
   "metadata": {},
   "source": [
    "We are interested in finding\n",
    "different themes and topics and not recurring themes. Hence, this suits our scenario\n",
    "perfectly."
   ]
  },
  {
   "cell_type": "markdown",
   "metadata": {},
   "source": [
    "**We can now perform feature engineering by leveraging a simple Bag of Words\n",
    "model.**"
   ]
  },
  {
   "cell_type": "code",
   "execution_count": 13,
   "metadata": {},
   "outputs": [
    {
     "name": "stdout",
     "output_type": "stream",
     "text": [
      "[(3, 1), (12, 3), (14, 1), (15, 1), (16, 1), (17, 16), (20, 1), (24, 1), (26, 1), (31, 3), (35, 1), (36, 1), (40, 3), (41, 5), (42, 1), (48, 1), (53, 3), (55, 1), (56, 2), (58, 1), (60, 3), (63, 5), (64, 4), (65, 2), (73, 1), (74, 1), (75, 1), (76, 1), (77, 3), (82, 1), (83, 4), (84, 1), (85, 1), (86, 2), (94, 1), (96, 2), (97, 3), (106, 1), (110, 1), (119, 2), (120, 4), (121, 2), (124, 2), (127, 1), (128, 1), (132, 1), (133, 1), (135, 6), (136, 1), (144, 1)]\n"
     ]
    }
   ],
   "source": [
    "# Transforming corpus into bag of words vectors\n",
    "bow_corpus = [dictionary.doc2bow(text) for text in norm_corpus_bigrams]\n",
    "print(bow_corpus[1][:50])"
   ]
  },
  {
   "cell_type": "code",
   "execution_count": 14,
   "metadata": {},
   "outputs": [
    {
     "name": "stdout",
     "output_type": "stream",
     "text": [
      "[('ability', 1), ('aip', 3), ('although', 1), ('american_institute', 1), ('amount', 1), ('analog', 16), ('appears', 1), ('architecture', 1), ('aspect', 1), ('available', 3), ('become', 1), ('becomes', 1), ('binary', 3), ('biological', 5), ('bit', 1), ('cannot', 1), ('circuit', 3), ('collective', 1), ('compare', 2), ('complex', 1), ('computing', 3), ('conference', 5), ('connected', 4), ('connectivity', 2), ('define', 1), ('defined', 1), ('defines', 1), ('definition', 1), ('denker', 3), ('designed', 1), ('desired', 4), ('diagonal', 1), ('difference', 1), ('directly', 2), ('ed', 1), ('el', 2), ('element', 3), ('equivalent', 1), ('eventually', 1), ('feature', 2), ('final', 4), ('find', 2), ('fixed', 2), ('frequency', 1), ('furthermore', 1), ('generating', 1), ('get', 1), ('global', 6), ('go', 1), ('hence', 1)]\n"
     ]
    }
   ],
   "source": [
    "# Viewing actual terms and their counts\n",
    "print([(dictionary[idx], freq) for idx, freq in bow_corpus[1][:50]])"
   ]
  },
  {
   "cell_type": "code",
   "execution_count": 15,
   "metadata": {},
   "outputs": [
    {
     "name": "stdout",
     "output_type": "stream",
     "text": [
      "Total number of papers:  1740\n"
     ]
    }
   ],
   "source": [
    "# total papers in the corpus\n",
    "print('Total number of papers: ', len(bow_corpus))"
   ]
  },
  {
   "cell_type": "markdown",
   "metadata": {},
   "source": [
    "**Our documents are now processed and have a good enough representation with the\n",
    "Bag of Words model to begin modeling.**"
   ]
  },
  {
   "cell_type": "markdown",
   "metadata": {},
   "source": [
    "# Building LDA"
   ]
  },
  {
   "cell_type": "markdown",
   "metadata": {},
   "source": [
    "https://melaniewalsh.github.io/Intro-Cultural-Analytics/05-Text-Analysis/07-Topic-Modeling-Set-Up.html"
   ]
  },
  {
   "cell_type": "code",
   "execution_count": 56,
   "metadata": {},
   "outputs": [],
   "source": [
    "# !pip install little_mallet_wrapper"
   ]
  },
  {
   "cell_type": "code",
   "execution_count": 51,
   "metadata": {},
   "outputs": [],
   "source": [
    "TOTAL_TOPICS = 10\n",
    "MALLET_PATH = os.path.join('C:\\mallet', 'bin', 'mallet')"
   ]
  },
  {
   "cell_type": "code",
   "execution_count": 52,
   "metadata": {},
   "outputs": [],
   "source": [
    "lda_mallet = gensim.models.wrappers.LdaMallet(mallet_path=MALLET_PATH, corpus=bow_corpus,  num_topics=TOTAL_TOPICS, \n",
    "                                              id2word=dictionary, iterations=500, workers=16)"
   ]
  },
  {
   "cell_type": "code",
   "execution_count": 54,
   "metadata": {},
   "outputs": [],
   "source": [
    "# import os\n",
    "# from gensim.models.wrappers import LdaMallet\n",
    "\n",
    "## os.environ['MALLET_HOME'] = 'C:\\\\Users\\\\DELL\\\\Desktop\\\\Research_lak\\\\mallet-2.0.8'\n",
    "# mallet_path = 'C:\\\\Users\\\\DELL\\\\Desktop\\\\Research_lak\\\\mallet-2.0.8\\\\bin\\\\mallet'\n",
    "# ldamallet = gensim.models.wrappers.LdaMallet(mallet_path, corpus=corpus, num_topics=10, id2word=id2word)"
   ]
  },
  {
   "cell_type": "markdown",
   "metadata": {},
   "source": [
    "we can now look at the generated topics!"
   ]
  },
  {
   "cell_type": "code",
   "execution_count": 57,
   "metadata": {},
   "outputs": [
    {
     "name": "stdout",
     "output_type": "stream",
     "text": [
      "Topic #1:\n",
      "['vector', 'matrix', 'component', 'structure', 'distance', 'cluster', 'memory', 'representation', 'rule', 'linear', 'code', 'mapping', 'local', 'clustering', 'transformation', 'solution', 'pattern', 'graph', 'dimensional', 'source']\n",
      "\n",
      "Topic #2:\n",
      "['response', 'stimulus', 'visual', 'cell', 'motion', 'map', 'unit', 'direction', 'receptive_field', 'spatial', 'target', 'signal', 'activity', 'eye', 'orientation', 'location', 'subject', 'field', 'center', 'velocity']\n",
      "\n",
      "Topic #3:\n",
      "['signal', 'circuit', 'chip', 'current', 'analog', 'voltage', 'channel', 'noise', 'bit', 'implementation', 'neuron', 'neural', 'design', 'source', 'processor', 'parallel', 'computation', 'gain', 'filter', 'application']\n",
      "\n",
      "Topic #4:\n",
      "['image', 'feature', 'object', 'pixel', 'view', 'region', 'face', 'surface', 'edge', 'field', 'scale', 'position', 'shape', 'location', 'local', 'representation', 'part', 'recognition', 'level', 'human']\n",
      "\n",
      "Topic #5:\n",
      "['training', 'class', 'classification', 'word', 'classifier', 'test', 'feature', 'recognition', 'trained', 'training_set', 'experiment', 'speech', 'pattern', 'task', 'table', 'accuracy', 'test_set', 'sample', 'target', 'probability']\n",
      "\n",
      "Topic #6:\n",
      "['unit', 'node', 'layer', 'net', 'hidden_unit', 'pattern', 'architecture', 'rule', 'training', 'activation', 'sequence', 'representation', 'recurrent', 'task', 'state', 'connection', 'structure', 'trained', 'back_propagation', 'module']\n",
      "\n",
      "Topic #7:\n",
      "['neuron', 'cell', 'activity', 'pattern', 'synaptic', 'spike', 'dynamic', 'neural', 'connection', 'firing', 'response', 'synapsis', 'phase', 'effect', 'frequency', 'rate', 'et_al', 'simulation', 'threshold', 'behavior']\n",
      "\n",
      "Topic #8:\n",
      "['state', 'control', 'action', 'step', 'trajectory', 'task', 'policy', 'dynamic', 'environment', 'optimal', 'controller', 'reinforcement_learning', 'goal', 'path', 'robot', 'change', 'current', 'adaptive', 'transition', 'search']\n",
      "\n",
      "Topic #9:\n",
      "['distribution', 'estimate', 'variable', 'gaussian', 'probability', 'prior', 'noise', 'approximation', 'sample', 'density', 'mixture', 'estimation', 'variance', 'prediction', 'kernel', 'bayesian', 'regression', 'likelihood', 'log', 'step']\n",
      "\n",
      "Topic #10:\n",
      "['equation', 'bound', 'solution', 'theory', 'linear', 'size', 'convergence', 'class', 'theorem', 'rate', 'optimal', 'defined', 'vector', 'constant', 'approximation', 'xi', 'probability', 'finite', 'property', 'complexity']\n",
      "\n"
     ]
    }
   ],
   "source": [
    "topics = [[(term, round(wt, 3)) \n",
    "               for term, wt in lda_mallet.show_topic(n, topn=20)] \n",
    "                   for n in range(0, TOTAL_TOPICS)]\n",
    "\n",
    "for idx, topic in enumerate(topics):\n",
    "    print('Topic #'+str(idx+1)+':')\n",
    "    print([term for term, wt in topic])\n",
    "    print()"
   ]
  },
  {
   "cell_type": "markdown",
   "metadata": {},
   "source": [
    "# Evaluation our Model Using the Perplexity and Coherence metircs"
   ]
  },
  {
   "cell_type": "code",
   "execution_count": 58,
   "metadata": {},
   "outputs": [
    {
     "name": "stdout",
     "output_type": "stream",
     "text": [
      "Avg. Coherence Score (Cv): 0.5120301705304536\n",
      "Avg. Coherence Score (UMass): -0.9962356018819918\n",
      "Model Perplexity: -8.53533\n"
     ]
    }
   ],
   "source": [
    "cv_coherence_model_lda_mallet = gensim.models.CoherenceModel(model=lda_mallet, corpus=bow_corpus, \n",
    "                                                             texts=norm_corpus_bigrams,\n",
    "                                                             dictionary=dictionary, \n",
    "                                                             coherence='c_v')\n",
    "avg_coherence_cv = cv_coherence_model_lda_mallet.get_coherence()\n",
    "\n",
    "umass_coherence_model_lda_mallet = gensim.models.CoherenceModel(model=lda_mallet, corpus=bow_corpus, \n",
    "                                                                texts=norm_corpus_bigrams,\n",
    "                                                                dictionary=dictionary,  \n",
    "                                                                coherence='u_mass')\n",
    "avg_coherence_umass = umass_coherence_model_lda_mallet.get_coherence()\n",
    "\n",
    "# from STDOUT: <500> LL/token: -8.53533\n",
    "perplexity = -8.53533\n",
    "print('Avg. Coherence Score (Cv):', avg_coherence_cv)\n",
    "print('Avg. Coherence Score (UMass):', avg_coherence_umass)\n",
    "print('Model Perplexity:', perplexity)"
   ]
  },
  {
   "cell_type": "markdown",
   "metadata": {},
   "source": [
    "**clearly see that the model from MALLET is much better based on these\n",
    "metrics as compared to the default LDA model from Gensim**"
   ]
  },
  {
   "cell_type": "markdown",
   "metadata": {},
   "source": [
    "# LDA Tuning: Finding the Optimal Number of Topics"
   ]
  },
  {
   "cell_type": "markdown",
   "metadata": {},
   "source": [
    "We can use an iterative approach and build several models with differing numbers of topics and select the one that has the highest\n",
    "   coherence score. To implement this method"
   ]
  },
  {
   "cell_type": "code",
   "execution_count": 59,
   "metadata": {},
   "outputs": [],
   "source": [
    "from tqdm import tqdm\n",
    "\n",
    "def topic_model_coherence_generator(corpus, texts, dictionary, start_topic_count=2, end_topic_count=10, step=1, cpus=1):\n",
    "    models = []\n",
    "    coherence_scores = []\n",
    "    for topic_nums in tqdm(range(start_topic_count, end_topic_count+1, step)):#2: 11\n",
    "        mallet_lda_model = gensim.models.wrappers.LdaMallet(mallet_path=MALLET_PATH, corpus=corpus,\n",
    "                                                            num_topics=topic_nums, id2word=dictionary,\n",
    "                                                            iterations=500, workers=cpus)\n",
    "        cv_coherence_model_mallet_lda = gensim.models.CoherenceModel(model=mallet_lda_model, corpus=corpus, \n",
    "                                                                     texts=texts, dictionary=dictionary, \n",
    "                                                                     coherence='c_v')\n",
    "        coherence_score = cv_coherence_model_mallet_lda.get_coherence()\n",
    "        coherence_scores.append(coherence_score)\n",
    "        models.append(mallet_lda_model)\n",
    "    \n",
    "    return models, coherence_scores"
   ]
  },
  {
   "cell_type": "markdown",
   "metadata": {},
   "source": [
    "Let’s put this function into action now and build several topic models, with the\n",
    "number of topics ranging from 2 to 30."
   ]
  },
  {
   "cell_type": "code",
   "execution_count": 60,
   "metadata": {},
   "outputs": [
    {
     "name": "stderr",
     "output_type": "stream",
     "text": [
      "100%|█████████████████████████████████████████████████████████████████████████████████| 29/29 [58:39<00:00, 121.35s/it]\n"
     ]
    }
   ],
   "source": [
    "lda_models, coherence_scores = topic_model_coherence_generator(corpus=bow_corpus, texts=norm_corpus_bigrams,\n",
    "                                                               dictionary=dictionary, start_topic_count=2,\n",
    "                                                               end_topic_count=30, step=1, cpus=16)"
   ]
  },
  {
   "cell_type": "markdown",
   "metadata": {},
   "source": [
    "Sorting the topic models based on the coherence score"
   ]
  },
  {
   "cell_type": "code",
   "execution_count": 61,
   "metadata": {},
   "outputs": [
    {
     "data": {
      "text/html": [
       "<div>\n",
       "<style scoped>\n",
       "    .dataframe tbody tr th:only-of-type {\n",
       "        vertical-align: middle;\n",
       "    }\n",
       "\n",
       "    .dataframe tbody tr th {\n",
       "        vertical-align: top;\n",
       "    }\n",
       "\n",
       "    .dataframe thead th {\n",
       "        text-align: right;\n",
       "    }\n",
       "</style>\n",
       "<table border=\"1\" class=\"dataframe\">\n",
       "  <thead>\n",
       "    <tr style=\"text-align: right;\">\n",
       "      <th></th>\n",
       "      <th>Number of Topics</th>\n",
       "      <th>Coherence Score</th>\n",
       "    </tr>\n",
       "  </thead>\n",
       "  <tbody>\n",
       "    <tr>\n",
       "      <th>28</th>\n",
       "      <td>30</td>\n",
       "      <td>0.5463</td>\n",
       "    </tr>\n",
       "    <tr>\n",
       "      <th>17</th>\n",
       "      <td>19</td>\n",
       "      <td>0.5448</td>\n",
       "    </tr>\n",
       "    <tr>\n",
       "      <th>22</th>\n",
       "      <td>24</td>\n",
       "      <td>0.5416</td>\n",
       "    </tr>\n",
       "    <tr>\n",
       "      <th>25</th>\n",
       "      <td>27</td>\n",
       "      <td>0.5376</td>\n",
       "    </tr>\n",
       "    <tr>\n",
       "      <th>21</th>\n",
       "      <td>23</td>\n",
       "      <td>0.5363</td>\n",
       "    </tr>\n",
       "    <tr>\n",
       "      <th>24</th>\n",
       "      <td>26</td>\n",
       "      <td>0.5357</td>\n",
       "    </tr>\n",
       "    <tr>\n",
       "      <th>23</th>\n",
       "      <td>25</td>\n",
       "      <td>0.5337</td>\n",
       "    </tr>\n",
       "    <tr>\n",
       "      <th>26</th>\n",
       "      <td>28</td>\n",
       "      <td>0.5308</td>\n",
       "    </tr>\n",
       "    <tr>\n",
       "      <th>12</th>\n",
       "      <td>14</td>\n",
       "      <td>0.5308</td>\n",
       "    </tr>\n",
       "    <tr>\n",
       "      <th>19</th>\n",
       "      <td>21</td>\n",
       "      <td>0.5304</td>\n",
       "    </tr>\n",
       "  </tbody>\n",
       "</table>\n",
       "</div>"
      ],
      "text/plain": [
       "    Number of Topics  Coherence Score\n",
       "28                30           0.5463\n",
       "17                19           0.5448\n",
       "22                24           0.5416\n",
       "25                27           0.5376\n",
       "21                23           0.5363\n",
       "24                26           0.5357\n",
       "23                25           0.5337\n",
       "26                28           0.5308\n",
       "12                14           0.5308\n",
       "19                21           0.5304"
      ]
     },
     "execution_count": 61,
     "metadata": {},
     "output_type": "execute_result"
    }
   ],
   "source": [
    "coherence_df = pd.DataFrame({'Number of Topics': range(2, 31, 1), 'Coherence Score': np.round(coherence_scores, 4)})\n",
    "coherence_df.sort_values(by=['Coherence Score'], ascending=False).head(10)"
   ]
  },
  {
   "cell_type": "markdown",
   "metadata": {},
   "source": [
    "Let’s plot a graph showing the number of topics per model and their corresponding\n",
    "coherence scores"
   ]
  },
  {
   "cell_type": "markdown",
   "metadata": {},
   "source": [
    " Topic model tuning the number of topics vs. coherence score"
   ]
  },
  {
   "cell_type": "code",
   "execution_count": 62,
   "metadata": {},
   "outputs": [
    {
     "data": {
      "image/png": "[encoded data removed]",
      "text/plain": [
       "<Figure size 864x432 with 1 Axes>"
      ]
     },
     "metadata": {
      "needs_background": "light"
     },
     "output_type": "display_data"
    }
   ],
   "source": [
    "import matplotlib.pyplot as plt\n",
    "plt.style.use('fivethirtyeight')\n",
    "%matplotlib inline\n",
    "\n",
    "x_ax = range(2, 31, 1)\n",
    "y_ax = coherence_scores\n",
    "plt.figure(figsize=(12, 6))\n",
    "plt.plot(x_ax, y_ax, c='r')\n",
    "plt.axhline(y=0.535, c='k', linestyle='--', linewidth=2)\n",
    "plt.rcParams['figure.facecolor'] = 'white'\n",
    "xl = plt.xlabel('Number of Topics')\n",
    "yl = plt.ylabel('Coherence Score')"
   ]
  },
  {
   "cell_type": "markdown",
   "metadata": {},
   "source": [
    "From Figure 6-7, it looks like the score starts increasing rapidly when the number of\n",
    "topics is five and gradually starts plateauing at 19 or 20. We choose the optimal number\n",
    "of topics as 20, based on our intuition"
   ]
  },
  {
   "cell_type": "markdown",
   "metadata": {},
   "source": [
    "**We can retrieve the best model now:**"
   ]
  },
  {
   "cell_type": "code",
   "execution_count": 63,
   "metadata": {},
   "outputs": [
    {
     "data": {
      "text/plain": [
       "20"
      ]
     },
     "execution_count": 63,
     "metadata": {},
     "output_type": "execute_result"
    }
   ],
   "source": [
    "best_model_idx = coherence_df[coherence_df['Number of Topics'] == 20].index[0]\n",
    "best_lda_model = lda_models[best_model_idx]\n",
    "best_lda_model.num_topics"
   ]
  },
  {
   "cell_type": "markdown",
   "metadata": {},
   "source": [
    "Let’s view all the 20 topics generated by our selected best model, similar to our\n",
    "previous models"
   ]
  },
  {
   "cell_type": "code",
   "execution_count": 64,
   "metadata": {},
   "outputs": [
    {
     "name": "stdout",
     "output_type": "stream",
     "text": [
      "Topic #1:\n",
      "['control', 'adaptive', 'dynamic', 'controller', 'forward', 'feedback', 'nonlinear', 'change', 'desired', 'adaptation', 'rate', 'application', 'gain', 'linear', 'signal', 'trajectory', 'behavior', 'inverse', 'load', 'architecture']\n",
      "\n",
      "Topic #2:\n",
      "['word', 'recognition', 'speech', 'training', 'character', 'sequence', 'hmm', 'context', 'feature', 'frame', 'letter', 'speaker', 'mlp', 'speech_recognition', 'phoneme', 'state', 'digit', 'trained', 'vowel', 'experiment']\n",
      "\n",
      "Topic #3:\n",
      "['node', 'solution', 'constraint', 'tree', 'graph', 'code', 'energy', 'vector', 'optimization', 'bit', 'variable', 'path', 'cost', 'matrix', 'distance', 'match', 'temperature', 'assignment', 'binary', 'find']\n",
      "\n",
      "Topic #4:\n",
      "['unit', 'rule', 'activation', 'representation', 'sequence', 'recurrent', 'structure', 'connectionist', 'pattern', 'symbol', 'language', 'string', 'step', 'level', 'context', 'represent', 'processing', 'role', 'note', 'architecture']\n",
      "\n",
      "Topic #5:\n",
      "['search', 'feature', 'experiment', 'instance', 'table', 'query', 'user', 'test', 'concept', 'domain', 'random', 'application', 'hypothesis', 'block', 'target', 'accuracy', 'technique', 'task', 'machine', 'human']\n",
      "\n",
      "Topic #6:\n",
      "['motion', 'direction', 'visual', 'position', 'map', 'target', 'location', 'field', 'subject', 'velocity', 'movement', 'motor', 'human', 'hand', 'response', 'task', 'cue', 'spatial', 'sensory', 'arm']\n",
      "\n",
      "Topic #7:\n",
      "['component', 'mixture', 'matrix', 'variable', 'vector', 'gaussian', 'source', 'linear', 'em', 'step', 'pca', 'ica', 'em_algorithm', 'basis', 'hidden', 'coefficient', 'approximation', 'missing', 'nonlinear', 'principal_component']\n",
      "\n",
      "Topic #8:\n",
      "['prediction', 'training', 'estimate', 'regression', 'estimation', 'ensemble', 'test', 'estimator', 'selection', 'variance', 'time_series', 'variable', 'cross_validation', 'training_set', 'pruning', 'step', 'risk', 'nonlinear', 'predictor', 'bias']\n",
      "\n",
      "Topic #9:\n",
      "['circuit', 'chip', 'current', 'neuron', 'voltage', 'analog', 'bit', 'processor', 'implementation', 'computation', 'design', 'device', 'synapse', 'operation', 'array', 'digital', 'parallel', 'neural', 'hardware', 'transistor']\n",
      "\n",
      "Topic #10:\n",
      "['equation', 'noise', 'vector', 'rate', 'convergence', 'gradient', 'optimal', 'eq', 'solution', 'line', 'curve', 'linear', 'theory', 'constant', 'matrix', 'average', 'rule', 'gradient_descent', 'limit', 'minimum']\n",
      "\n",
      "Topic #11:\n",
      "['distribution', 'probability', 'prior', 'sample', 'density', 'bayesian', 'gaussian', 'estimate', 'log', 'approximation', 'posterior', 'probabilistic', 'true', 'likelihood', 'stochastic', 'evidence', 'probability_distribution', 'procedure', 'statistical', 'variance']\n",
      "\n",
      "Topic #12:\n",
      "['neuron', 'state', 'memory', 'dynamic', 'pattern', 'phase', 'attractor', 'module', 'capacity', 'connection', 'fixed_point', 'matrix', 'oscillation', 'oscillator', 'delay', 'hopfield', 'neural', 'equation', 'stable', 'behavior']\n",
      "\n",
      "Topic #13:\n",
      "['image', 'object', 'feature', 'pixel', 'face', 'view', 'surface', 'edge', 'visual', 'scale', 'representation', 'region', 'contour', 'shape', 'recognition', 'vision', 'scene', 'location', 'orientation', 'local']\n",
      "\n",
      "Topic #14:\n",
      "['local', 'structure', 'cluster', 'region', 'expert', 'clustering', 'level', 'part', 'mapping', 'group', 'similarity', 'dimension', 'global', 'center', 'feature', 'dimensional', 'principle', 'neighborhood', 'size', 'hierarchical']\n",
      "\n",
      "Topic #15:\n",
      "['class', 'classification', 'classifier', 'vector', 'kernel', 'training', 'pattern', 'feature', 'distance', 'rbf', 'machine', 'test', 'linear', 'training_set', 'nearest_neighbor', 'margin', 'transformation', 'sample', 'support_vector', 'radial_basis']\n",
      "\n",
      "Topic #16:\n",
      "['state', 'action', 'step', 'policy', 'reinforcement_learning', 'task', 'optimal', 'environment', 'goal', 'robot', 'reward', 'td', 'transition', 'agent', 'trial', 'rl', 'control', 'current', 'reinforcement', 'cost']\n",
      "\n",
      "Topic #17:\n",
      "['cell', 'neuron', 'activity', 'response', 'synaptic', 'pattern', 'stimulus', 'cortical', 'layer', 'firing', 'cortex', 'receptive_field', 'effect', 'connection', 'et_al', 'synapsis', 'mechanism', 'simulation', 'orientation', 'property']\n",
      "\n",
      "Topic #18:\n",
      "['training', 'layer', 'unit', 'hidden_unit', 'net', 'task', 'pattern', 'trained', 'architecture', 'training_set', 'back_propagation', 'generalization', 'hidden_layer', 'hidden', 'backpropagation', 'learn', 'size', 'connection', 'epoch', 'required']\n",
      "\n",
      "Topic #19:\n",
      "['signal', 'frequency', 'spike', 'response', 'channel', 'noise', 'filter', 'stimulus', 'temporal', 'rate', 'correlation', 'phase', 'sound', 'amplitude', 'auditory', 'event', 'change', 'neural', 'threshold', 'detection']\n",
      "\n",
      "Topic #20:\n",
      "['bound', 'theorem', 'size', 'class', 'threshold', 'approximation', 'proof', 'complexity', 'theory', 'polynomial', 'linear', 'loss', 'defined', 'definition', 'constant', 'bounded', 'property', 'assume', 'define', 'condition']\n",
      "\n"
     ]
    }
   ],
   "source": [
    "topics = [[(term, round(wt, 3)) \n",
    "               for term, wt in best_lda_model.show_topic(n, topn=20)] \n",
    "                   for n in range(0, best_lda_model.num_topics)]\n",
    "\n",
    "for idx, topic in enumerate(topics):\n",
    "    print('Topic #'+str(idx+1)+':')\n",
    "    print([term for term, wt in topic])\n",
    "    print()"
   ]
  },
  {
   "cell_type": "markdown",
   "metadata": {},
   "source": [
    "A better way of visualizing the topics is to build a term-topic dataframe"
   ]
  },
  {
   "cell_type": "markdown",
   "metadata": {},
   "source": [
    "Generated topics from our LDA topic model"
   ]
  },
  {
   "cell_type": "code",
   "execution_count": 65,
   "metadata": {},
   "outputs": [
    {
     "data": {
      "text/html": [
       "<div>\n",
       "<style scoped>\n",
       "    .dataframe tbody tr th:only-of-type {\n",
       "        vertical-align: middle;\n",
       "    }\n",
       "\n",
       "    .dataframe tbody tr th {\n",
       "        vertical-align: top;\n",
       "    }\n",
       "\n",
       "    .dataframe thead th {\n",
       "        text-align: right;\n",
       "    }\n",
       "</style>\n",
       "<table border=\"1\" class=\"dataframe\">\n",
       "  <thead>\n",
       "    <tr style=\"text-align: right;\">\n",
       "      <th></th>\n",
       "      <th>Topic 1</th>\n",
       "      <th>Topic 2</th>\n",
       "      <th>Topic 3</th>\n",
       "      <th>Topic 4</th>\n",
       "      <th>Topic 5</th>\n",
       "      <th>Topic 6</th>\n",
       "      <th>Topic 7</th>\n",
       "      <th>Topic 8</th>\n",
       "      <th>Topic 9</th>\n",
       "      <th>Topic 10</th>\n",
       "      <th>Topic 11</th>\n",
       "      <th>Topic 12</th>\n",
       "      <th>Topic 13</th>\n",
       "      <th>Topic 14</th>\n",
       "      <th>Topic 15</th>\n",
       "      <th>Topic 16</th>\n",
       "      <th>Topic 17</th>\n",
       "      <th>Topic 18</th>\n",
       "      <th>Topic 19</th>\n",
       "      <th>Topic 20</th>\n",
       "    </tr>\n",
       "  </thead>\n",
       "  <tbody>\n",
       "    <tr>\n",
       "      <th>Term1</th>\n",
       "      <td>control</td>\n",
       "      <td>word</td>\n",
       "      <td>node</td>\n",
       "      <td>unit</td>\n",
       "      <td>search</td>\n",
       "      <td>motion</td>\n",
       "      <td>component</td>\n",
       "      <td>prediction</td>\n",
       "      <td>circuit</td>\n",
       "      <td>equation</td>\n",
       "      <td>distribution</td>\n",
       "      <td>neuron</td>\n",
       "      <td>image</td>\n",
       "      <td>local</td>\n",
       "      <td>class</td>\n",
       "      <td>state</td>\n",
       "      <td>cell</td>\n",
       "      <td>training</td>\n",
       "      <td>signal</td>\n",
       "      <td>bound</td>\n",
       "    </tr>\n",
       "    <tr>\n",
       "      <th>Term2</th>\n",
       "      <td>adaptive</td>\n",
       "      <td>recognition</td>\n",
       "      <td>solution</td>\n",
       "      <td>rule</td>\n",
       "      <td>feature</td>\n",
       "      <td>direction</td>\n",
       "      <td>mixture</td>\n",
       "      <td>training</td>\n",
       "      <td>chip</td>\n",
       "      <td>noise</td>\n",
       "      <td>probability</td>\n",
       "      <td>state</td>\n",
       "      <td>object</td>\n",
       "      <td>structure</td>\n",
       "      <td>classification</td>\n",
       "      <td>action</td>\n",
       "      <td>neuron</td>\n",
       "      <td>layer</td>\n",
       "      <td>frequency</td>\n",
       "      <td>theorem</td>\n",
       "    </tr>\n",
       "    <tr>\n",
       "      <th>Term3</th>\n",
       "      <td>dynamic</td>\n",
       "      <td>speech</td>\n",
       "      <td>constraint</td>\n",
       "      <td>activation</td>\n",
       "      <td>experiment</td>\n",
       "      <td>visual</td>\n",
       "      <td>matrix</td>\n",
       "      <td>estimate</td>\n",
       "      <td>current</td>\n",
       "      <td>vector</td>\n",
       "      <td>prior</td>\n",
       "      <td>memory</td>\n",
       "      <td>feature</td>\n",
       "      <td>cluster</td>\n",
       "      <td>classifier</td>\n",
       "      <td>step</td>\n",
       "      <td>activity</td>\n",
       "      <td>unit</td>\n",
       "      <td>spike</td>\n",
       "      <td>size</td>\n",
       "    </tr>\n",
       "    <tr>\n",
       "      <th>Term4</th>\n",
       "      <td>controller</td>\n",
       "      <td>training</td>\n",
       "      <td>tree</td>\n",
       "      <td>representation</td>\n",
       "      <td>instance</td>\n",
       "      <td>position</td>\n",
       "      <td>variable</td>\n",
       "      <td>regression</td>\n",
       "      <td>neuron</td>\n",
       "      <td>rate</td>\n",
       "      <td>sample</td>\n",
       "      <td>dynamic</td>\n",
       "      <td>pixel</td>\n",
       "      <td>region</td>\n",
       "      <td>vector</td>\n",
       "      <td>policy</td>\n",
       "      <td>response</td>\n",
       "      <td>hidden_unit</td>\n",
       "      <td>response</td>\n",
       "      <td>class</td>\n",
       "    </tr>\n",
       "    <tr>\n",
       "      <th>Term5</th>\n",
       "      <td>forward</td>\n",
       "      <td>character</td>\n",
       "      <td>graph</td>\n",
       "      <td>sequence</td>\n",
       "      <td>table</td>\n",
       "      <td>map</td>\n",
       "      <td>vector</td>\n",
       "      <td>estimation</td>\n",
       "      <td>voltage</td>\n",
       "      <td>convergence</td>\n",
       "      <td>density</td>\n",
       "      <td>pattern</td>\n",
       "      <td>face</td>\n",
       "      <td>expert</td>\n",
       "      <td>kernel</td>\n",
       "      <td>reinforcement_learning</td>\n",
       "      <td>synaptic</td>\n",
       "      <td>net</td>\n",
       "      <td>channel</td>\n",
       "      <td>threshold</td>\n",
       "    </tr>\n",
       "    <tr>\n",
       "      <th>Term6</th>\n",
       "      <td>feedback</td>\n",
       "      <td>sequence</td>\n",
       "      <td>code</td>\n",
       "      <td>recurrent</td>\n",
       "      <td>query</td>\n",
       "      <td>target</td>\n",
       "      <td>gaussian</td>\n",
       "      <td>ensemble</td>\n",
       "      <td>analog</td>\n",
       "      <td>gradient</td>\n",
       "      <td>bayesian</td>\n",
       "      <td>phase</td>\n",
       "      <td>view</td>\n",
       "      <td>clustering</td>\n",
       "      <td>training</td>\n",
       "      <td>task</td>\n",
       "      <td>pattern</td>\n",
       "      <td>task</td>\n",
       "      <td>noise</td>\n",
       "      <td>approximation</td>\n",
       "    </tr>\n",
       "    <tr>\n",
       "      <th>Term7</th>\n",
       "      <td>nonlinear</td>\n",
       "      <td>hmm</td>\n",
       "      <td>energy</td>\n",
       "      <td>structure</td>\n",
       "      <td>user</td>\n",
       "      <td>location</td>\n",
       "      <td>source</td>\n",
       "      <td>test</td>\n",
       "      <td>bit</td>\n",
       "      <td>optimal</td>\n",
       "      <td>gaussian</td>\n",
       "      <td>attractor</td>\n",
       "      <td>surface</td>\n",
       "      <td>level</td>\n",
       "      <td>pattern</td>\n",
       "      <td>optimal</td>\n",
       "      <td>stimulus</td>\n",
       "      <td>pattern</td>\n",
       "      <td>filter</td>\n",
       "      <td>proof</td>\n",
       "    </tr>\n",
       "    <tr>\n",
       "      <th>Term8</th>\n",
       "      <td>change</td>\n",
       "      <td>context</td>\n",
       "      <td>vector</td>\n",
       "      <td>connectionist</td>\n",
       "      <td>test</td>\n",
       "      <td>field</td>\n",
       "      <td>linear</td>\n",
       "      <td>estimator</td>\n",
       "      <td>processor</td>\n",
       "      <td>eq</td>\n",
       "      <td>estimate</td>\n",
       "      <td>module</td>\n",
       "      <td>edge</td>\n",
       "      <td>part</td>\n",
       "      <td>feature</td>\n",
       "      <td>environment</td>\n",
       "      <td>cortical</td>\n",
       "      <td>trained</td>\n",
       "      <td>stimulus</td>\n",
       "      <td>complexity</td>\n",
       "    </tr>\n",
       "    <tr>\n",
       "      <th>Term9</th>\n",
       "      <td>desired</td>\n",
       "      <td>feature</td>\n",
       "      <td>optimization</td>\n",
       "      <td>pattern</td>\n",
       "      <td>concept</td>\n",
       "      <td>subject</td>\n",
       "      <td>em</td>\n",
       "      <td>selection</td>\n",
       "      <td>implementation</td>\n",
       "      <td>solution</td>\n",
       "      <td>log</td>\n",
       "      <td>capacity</td>\n",
       "      <td>visual</td>\n",
       "      <td>mapping</td>\n",
       "      <td>distance</td>\n",
       "      <td>goal</td>\n",
       "      <td>layer</td>\n",
       "      <td>architecture</td>\n",
       "      <td>temporal</td>\n",
       "      <td>theory</td>\n",
       "    </tr>\n",
       "    <tr>\n",
       "      <th>Term10</th>\n",
       "      <td>adaptation</td>\n",
       "      <td>frame</td>\n",
       "      <td>bit</td>\n",
       "      <td>symbol</td>\n",
       "      <td>domain</td>\n",
       "      <td>velocity</td>\n",
       "      <td>step</td>\n",
       "      <td>variance</td>\n",
       "      <td>computation</td>\n",
       "      <td>line</td>\n",
       "      <td>approximation</td>\n",
       "      <td>connection</td>\n",
       "      <td>scale</td>\n",
       "      <td>group</td>\n",
       "      <td>rbf</td>\n",
       "      <td>robot</td>\n",
       "      <td>firing</td>\n",
       "      <td>training_set</td>\n",
       "      <td>rate</td>\n",
       "      <td>polynomial</td>\n",
       "    </tr>\n",
       "    <tr>\n",
       "      <th>Term11</th>\n",
       "      <td>rate</td>\n",
       "      <td>letter</td>\n",
       "      <td>variable</td>\n",
       "      <td>language</td>\n",
       "      <td>random</td>\n",
       "      <td>movement</td>\n",
       "      <td>pca</td>\n",
       "      <td>time_series</td>\n",
       "      <td>design</td>\n",
       "      <td>curve</td>\n",
       "      <td>posterior</td>\n",
       "      <td>fixed_point</td>\n",
       "      <td>representation</td>\n",
       "      <td>similarity</td>\n",
       "      <td>machine</td>\n",
       "      <td>reward</td>\n",
       "      <td>cortex</td>\n",
       "      <td>back_propagation</td>\n",
       "      <td>correlation</td>\n",
       "      <td>linear</td>\n",
       "    </tr>\n",
       "    <tr>\n",
       "      <th>Term12</th>\n",
       "      <td>application</td>\n",
       "      <td>speaker</td>\n",
       "      <td>path</td>\n",
       "      <td>string</td>\n",
       "      <td>application</td>\n",
       "      <td>motor</td>\n",
       "      <td>ica</td>\n",
       "      <td>variable</td>\n",
       "      <td>device</td>\n",
       "      <td>linear</td>\n",
       "      <td>probabilistic</td>\n",
       "      <td>matrix</td>\n",
       "      <td>region</td>\n",
       "      <td>dimension</td>\n",
       "      <td>test</td>\n",
       "      <td>td</td>\n",
       "      <td>receptive_field</td>\n",
       "      <td>generalization</td>\n",
       "      <td>phase</td>\n",
       "      <td>loss</td>\n",
       "    </tr>\n",
       "    <tr>\n",
       "      <th>Term13</th>\n",
       "      <td>gain</td>\n",
       "      <td>mlp</td>\n",
       "      <td>cost</td>\n",
       "      <td>step</td>\n",
       "      <td>hypothesis</td>\n",
       "      <td>human</td>\n",
       "      <td>em_algorithm</td>\n",
       "      <td>cross_validation</td>\n",
       "      <td>synapse</td>\n",
       "      <td>theory</td>\n",
       "      <td>true</td>\n",
       "      <td>oscillation</td>\n",
       "      <td>contour</td>\n",
       "      <td>global</td>\n",
       "      <td>linear</td>\n",
       "      <td>transition</td>\n",
       "      <td>effect</td>\n",
       "      <td>hidden_layer</td>\n",
       "      <td>sound</td>\n",
       "      <td>defined</td>\n",
       "    </tr>\n",
       "    <tr>\n",
       "      <th>Term14</th>\n",
       "      <td>linear</td>\n",
       "      <td>speech_recognition</td>\n",
       "      <td>matrix</td>\n",
       "      <td>level</td>\n",
       "      <td>block</td>\n",
       "      <td>hand</td>\n",
       "      <td>basis</td>\n",
       "      <td>training_set</td>\n",
       "      <td>operation</td>\n",
       "      <td>constant</td>\n",
       "      <td>likelihood</td>\n",
       "      <td>oscillator</td>\n",
       "      <td>shape</td>\n",
       "      <td>center</td>\n",
       "      <td>training_set</td>\n",
       "      <td>agent</td>\n",
       "      <td>connection</td>\n",
       "      <td>hidden</td>\n",
       "      <td>amplitude</td>\n",
       "      <td>definition</td>\n",
       "    </tr>\n",
       "    <tr>\n",
       "      <th>Term15</th>\n",
       "      <td>signal</td>\n",
       "      <td>phoneme</td>\n",
       "      <td>distance</td>\n",
       "      <td>context</td>\n",
       "      <td>target</td>\n",
       "      <td>response</td>\n",
       "      <td>hidden</td>\n",
       "      <td>pruning</td>\n",
       "      <td>array</td>\n",
       "      <td>matrix</td>\n",
       "      <td>stochastic</td>\n",
       "      <td>delay</td>\n",
       "      <td>recognition</td>\n",
       "      <td>feature</td>\n",
       "      <td>nearest_neighbor</td>\n",
       "      <td>trial</td>\n",
       "      <td>et_al</td>\n",
       "      <td>backpropagation</td>\n",
       "      <td>auditory</td>\n",
       "      <td>constant</td>\n",
       "    </tr>\n",
       "    <tr>\n",
       "      <th>Term16</th>\n",
       "      <td>trajectory</td>\n",
       "      <td>state</td>\n",
       "      <td>match</td>\n",
       "      <td>represent</td>\n",
       "      <td>accuracy</td>\n",
       "      <td>task</td>\n",
       "      <td>coefficient</td>\n",
       "      <td>step</td>\n",
       "      <td>digital</td>\n",
       "      <td>average</td>\n",
       "      <td>evidence</td>\n",
       "      <td>hopfield</td>\n",
       "      <td>vision</td>\n",
       "      <td>dimensional</td>\n",
       "      <td>margin</td>\n",
       "      <td>rl</td>\n",
       "      <td>synapsis</td>\n",
       "      <td>learn</td>\n",
       "      <td>event</td>\n",
       "      <td>bounded</td>\n",
       "    </tr>\n",
       "    <tr>\n",
       "      <th>Term17</th>\n",
       "      <td>behavior</td>\n",
       "      <td>digit</td>\n",
       "      <td>temperature</td>\n",
       "      <td>processing</td>\n",
       "      <td>technique</td>\n",
       "      <td>cue</td>\n",
       "      <td>approximation</td>\n",
       "      <td>risk</td>\n",
       "      <td>parallel</td>\n",
       "      <td>rule</td>\n",
       "      <td>probability_distribution</td>\n",
       "      <td>neural</td>\n",
       "      <td>scene</td>\n",
       "      <td>principle</td>\n",
       "      <td>transformation</td>\n",
       "      <td>control</td>\n",
       "      <td>mechanism</td>\n",
       "      <td>size</td>\n",
       "      <td>change</td>\n",
       "      <td>property</td>\n",
       "    </tr>\n",
       "    <tr>\n",
       "      <th>Term18</th>\n",
       "      <td>inverse</td>\n",
       "      <td>trained</td>\n",
       "      <td>assignment</td>\n",
       "      <td>role</td>\n",
       "      <td>task</td>\n",
       "      <td>spatial</td>\n",
       "      <td>missing</td>\n",
       "      <td>nonlinear</td>\n",
       "      <td>neural</td>\n",
       "      <td>gradient_descent</td>\n",
       "      <td>procedure</td>\n",
       "      <td>equation</td>\n",
       "      <td>location</td>\n",
       "      <td>neighborhood</td>\n",
       "      <td>sample</td>\n",
       "      <td>current</td>\n",
       "      <td>simulation</td>\n",
       "      <td>connection</td>\n",
       "      <td>neural</td>\n",
       "      <td>assume</td>\n",
       "    </tr>\n",
       "    <tr>\n",
       "      <th>Term19</th>\n",
       "      <td>load</td>\n",
       "      <td>vowel</td>\n",
       "      <td>binary</td>\n",
       "      <td>note</td>\n",
       "      <td>machine</td>\n",
       "      <td>sensory</td>\n",
       "      <td>nonlinear</td>\n",
       "      <td>predictor</td>\n",
       "      <td>hardware</td>\n",
       "      <td>limit</td>\n",
       "      <td>statistical</td>\n",
       "      <td>stable</td>\n",
       "      <td>orientation</td>\n",
       "      <td>size</td>\n",
       "      <td>support_vector</td>\n",
       "      <td>reinforcement</td>\n",
       "      <td>orientation</td>\n",
       "      <td>epoch</td>\n",
       "      <td>threshold</td>\n",
       "      <td>define</td>\n",
       "    </tr>\n",
       "    <tr>\n",
       "      <th>Term20</th>\n",
       "      <td>architecture</td>\n",
       "      <td>experiment</td>\n",
       "      <td>find</td>\n",
       "      <td>architecture</td>\n",
       "      <td>human</td>\n",
       "      <td>arm</td>\n",
       "      <td>principal_component</td>\n",
       "      <td>bias</td>\n",
       "      <td>transistor</td>\n",
       "      <td>minimum</td>\n",
       "      <td>variance</td>\n",
       "      <td>behavior</td>\n",
       "      <td>local</td>\n",
       "      <td>hierarchical</td>\n",
       "      <td>radial_basis</td>\n",
       "      <td>cost</td>\n",
       "      <td>property</td>\n",
       "      <td>required</td>\n",
       "      <td>detection</td>\n",
       "      <td>condition</td>\n",
       "    </tr>\n",
       "  </tbody>\n",
       "</table>\n",
       "</div>"
      ],
      "text/plain": [
       "             Topic 1             Topic 2       Topic 3         Topic 4  \\\n",
       "Term1        control                word          node            unit   \n",
       "Term2       adaptive         recognition      solution            rule   \n",
       "Term3        dynamic              speech    constraint      activation   \n",
       "Term4     controller            training          tree  representation   \n",
       "Term5        forward           character         graph        sequence   \n",
       "Term6       feedback            sequence          code       recurrent   \n",
       "Term7      nonlinear                 hmm        energy       structure   \n",
       "Term8         change             context        vector   connectionist   \n",
       "Term9        desired             feature  optimization         pattern   \n",
       "Term10    adaptation               frame           bit          symbol   \n",
       "Term11          rate              letter      variable        language   \n",
       "Term12   application             speaker          path          string   \n",
       "Term13          gain                 mlp          cost            step   \n",
       "Term14        linear  speech_recognition        matrix           level   \n",
       "Term15        signal             phoneme      distance         context   \n",
       "Term16    trajectory               state         match       represent   \n",
       "Term17      behavior               digit   temperature      processing   \n",
       "Term18       inverse             trained    assignment            role   \n",
       "Term19          load               vowel        binary            note   \n",
       "Term20  architecture          experiment          find    architecture   \n",
       "\n",
       "            Topic 5    Topic 6              Topic 7           Topic 8  \\\n",
       "Term1        search     motion            component        prediction   \n",
       "Term2       feature  direction              mixture          training   \n",
       "Term3    experiment     visual               matrix          estimate   \n",
       "Term4      instance   position             variable        regression   \n",
       "Term5         table        map               vector        estimation   \n",
       "Term6         query     target             gaussian          ensemble   \n",
       "Term7          user   location               source              test   \n",
       "Term8          test      field               linear         estimator   \n",
       "Term9       concept    subject                   em         selection   \n",
       "Term10       domain   velocity                 step          variance   \n",
       "Term11       random   movement                  pca       time_series   \n",
       "Term12  application      motor                  ica          variable   \n",
       "Term13   hypothesis      human         em_algorithm  cross_validation   \n",
       "Term14        block       hand                basis      training_set   \n",
       "Term15       target   response               hidden           pruning   \n",
       "Term16     accuracy       task          coefficient              step   \n",
       "Term17    technique        cue        approximation              risk   \n",
       "Term18         task    spatial              missing         nonlinear   \n",
       "Term19      machine    sensory            nonlinear         predictor   \n",
       "Term20        human        arm  principal_component              bias   \n",
       "\n",
       "               Topic 9          Topic 10                  Topic 11  \\\n",
       "Term1          circuit          equation              distribution   \n",
       "Term2             chip             noise               probability   \n",
       "Term3          current            vector                     prior   \n",
       "Term4           neuron              rate                    sample   \n",
       "Term5          voltage       convergence                   density   \n",
       "Term6           analog          gradient                  bayesian   \n",
       "Term7              bit           optimal                  gaussian   \n",
       "Term8        processor                eq                  estimate   \n",
       "Term9   implementation          solution                       log   \n",
       "Term10     computation              line             approximation   \n",
       "Term11          design             curve                 posterior   \n",
       "Term12          device            linear             probabilistic   \n",
       "Term13         synapse            theory                      true   \n",
       "Term14       operation          constant                likelihood   \n",
       "Term15           array            matrix                stochastic   \n",
       "Term16         digital           average                  evidence   \n",
       "Term17        parallel              rule  probability_distribution   \n",
       "Term18          neural  gradient_descent                 procedure   \n",
       "Term19        hardware             limit               statistical   \n",
       "Term20      transistor           minimum                  variance   \n",
       "\n",
       "           Topic 12        Topic 13      Topic 14          Topic 15  \\\n",
       "Term1        neuron           image         local             class   \n",
       "Term2         state          object     structure    classification   \n",
       "Term3        memory         feature       cluster        classifier   \n",
       "Term4       dynamic           pixel        region            vector   \n",
       "Term5       pattern            face        expert            kernel   \n",
       "Term6         phase            view    clustering          training   \n",
       "Term7     attractor         surface         level           pattern   \n",
       "Term8        module            edge          part           feature   \n",
       "Term9      capacity          visual       mapping          distance   \n",
       "Term10   connection           scale         group               rbf   \n",
       "Term11  fixed_point  representation    similarity           machine   \n",
       "Term12       matrix          region     dimension              test   \n",
       "Term13  oscillation         contour        global            linear   \n",
       "Term14   oscillator           shape        center      training_set   \n",
       "Term15        delay     recognition       feature  nearest_neighbor   \n",
       "Term16     hopfield          vision   dimensional            margin   \n",
       "Term17       neural           scene     principle    transformation   \n",
       "Term18     equation        location  neighborhood            sample   \n",
       "Term19       stable     orientation          size    support_vector   \n",
       "Term20     behavior           local  hierarchical      radial_basis   \n",
       "\n",
       "                      Topic 16         Topic 17          Topic 18  \\\n",
       "Term1                    state             cell          training   \n",
       "Term2                   action           neuron             layer   \n",
       "Term3                     step         activity              unit   \n",
       "Term4                   policy         response       hidden_unit   \n",
       "Term5   reinforcement_learning         synaptic               net   \n",
       "Term6                     task          pattern              task   \n",
       "Term7                  optimal         stimulus           pattern   \n",
       "Term8              environment         cortical           trained   \n",
       "Term9                     goal            layer      architecture   \n",
       "Term10                   robot           firing      training_set   \n",
       "Term11                  reward           cortex  back_propagation   \n",
       "Term12                      td  receptive_field    generalization   \n",
       "Term13              transition           effect      hidden_layer   \n",
       "Term14                   agent       connection            hidden   \n",
       "Term15                   trial            et_al   backpropagation   \n",
       "Term16                      rl         synapsis             learn   \n",
       "Term17                 control        mechanism              size   \n",
       "Term18                 current       simulation        connection   \n",
       "Term19           reinforcement      orientation             epoch   \n",
       "Term20                    cost         property          required   \n",
       "\n",
       "           Topic 19       Topic 20  \n",
       "Term1        signal          bound  \n",
       "Term2     frequency        theorem  \n",
       "Term3         spike           size  \n",
       "Term4      response          class  \n",
       "Term5       channel      threshold  \n",
       "Term6         noise  approximation  \n",
       "Term7        filter          proof  \n",
       "Term8      stimulus     complexity  \n",
       "Term9      temporal         theory  \n",
       "Term10         rate     polynomial  \n",
       "Term11  correlation         linear  \n",
       "Term12        phase           loss  \n",
       "Term13        sound        defined  \n",
       "Term14    amplitude     definition  \n",
       "Term15     auditory       constant  \n",
       "Term16        event        bounded  \n",
       "Term17       change       property  \n",
       "Term18       neural         assume  \n",
       "Term19    threshold         define  \n",
       "Term20    detection      condition  "
      ]
     },
     "execution_count": 65,
     "metadata": {},
     "output_type": "execute_result"
    }
   ],
   "source": [
    "topics_df = pd.DataFrame([[term for term, wt in topic] \n",
    "                              for topic in topics], \n",
    "                         columns = ['Term'+str(i) for i in range(1, 21)],\n",
    "                         index=['Topic '+str(t) for t in range(1, best_lda_model.num_topics+1)]).T\n",
    "topics_df"
   ]
  },
  {
   "cell_type": "markdown",
   "metadata": {},
   "source": [
    "Another easy way to view the topics is to create a topic-term dataframe, whereby\n",
    "each topic is represented in a row with the terms of the topic being represented as a\n",
    "comma-separated string"
   ]
  },
  {
   "cell_type": "code",
   "execution_count": 66,
   "metadata": {},
   "outputs": [
    {
     "name": "stderr",
     "output_type": "stream",
     "text": [
      "C:\\Users\\Mido\\Anaconda3\\lib\\site-packages\\ipykernel_launcher.py:1: FutureWarning: Passing a negative integer is deprecated in version 1.0 and will not be supported in future version. Instead, use None to not limit the column width.\n",
      "  \"\"\"Entry point for launching an IPython kernel.\n"
     ]
    },
    {
     "data": {
      "text/html": [
       "<div>\n",
       "<style scoped>\n",
       "    .dataframe tbody tr th:only-of-type {\n",
       "        vertical-align: middle;\n",
       "    }\n",
       "\n",
       "    .dataframe tbody tr th {\n",
       "        vertical-align: top;\n",
       "    }\n",
       "\n",
       "    .dataframe thead th {\n",
       "        text-align: right;\n",
       "    }\n",
       "</style>\n",
       "<table border=\"1\" class=\"dataframe\">\n",
       "  <thead>\n",
       "    <tr style=\"text-align: right;\">\n",
       "      <th></th>\n",
       "      <th>Terms per Topic</th>\n",
       "    </tr>\n",
       "  </thead>\n",
       "  <tbody>\n",
       "    <tr>\n",
       "      <th>Topic1</th>\n",
       "      <td>control, adaptive, dynamic, controller, forward, feedback, nonlinear, change, desired, adaptation, rate, application, gain, linear, signal, trajectory, behavior, inverse, load, architecture</td>\n",
       "    </tr>\n",
       "    <tr>\n",
       "      <th>Topic2</th>\n",
       "      <td>word, recognition, speech, training, character, sequence, hmm, context, feature, frame, letter, speaker, mlp, speech_recognition, phoneme, state, digit, trained, vowel, experiment</td>\n",
       "    </tr>\n",
       "    <tr>\n",
       "      <th>Topic3</th>\n",
       "      <td>node, solution, constraint, tree, graph, code, energy, vector, optimization, bit, variable, path, cost, matrix, distance, match, temperature, assignment, binary, find</td>\n",
       "    </tr>\n",
       "    <tr>\n",
       "      <th>Topic4</th>\n",
       "      <td>unit, rule, activation, representation, sequence, recurrent, structure, connectionist, pattern, symbol, language, string, step, level, context, represent, processing, role, note, architecture</td>\n",
       "    </tr>\n",
       "    <tr>\n",
       "      <th>Topic5</th>\n",
       "      <td>search, feature, experiment, instance, table, query, user, test, concept, domain, random, application, hypothesis, block, target, accuracy, technique, task, machine, human</td>\n",
       "    </tr>\n",
       "    <tr>\n",
       "      <th>Topic6</th>\n",
       "      <td>motion, direction, visual, position, map, target, location, field, subject, velocity, movement, motor, human, hand, response, task, cue, spatial, sensory, arm</td>\n",
       "    </tr>\n",
       "    <tr>\n",
       "      <th>Topic7</th>\n",
       "      <td>component, mixture, matrix, variable, vector, gaussian, source, linear, em, step, pca, ica, em_algorithm, basis, hidden, coefficient, approximation, missing, nonlinear, principal_component</td>\n",
       "    </tr>\n",
       "    <tr>\n",
       "      <th>Topic8</th>\n",
       "      <td>prediction, training, estimate, regression, estimation, ensemble, test, estimator, selection, variance, time_series, variable, cross_validation, training_set, pruning, step, risk, nonlinear, predictor, bias</td>\n",
       "    </tr>\n",
       "    <tr>\n",
       "      <th>Topic9</th>\n",
       "      <td>circuit, chip, current, neuron, voltage, analog, bit, processor, implementation, computation, design, device, synapse, operation, array, digital, parallel, neural, hardware, transistor</td>\n",
       "    </tr>\n",
       "    <tr>\n",
       "      <th>Topic10</th>\n",
       "      <td>equation, noise, vector, rate, convergence, gradient, optimal, eq, solution, line, curve, linear, theory, constant, matrix, average, rule, gradient_descent, limit, minimum</td>\n",
       "    </tr>\n",
       "    <tr>\n",
       "      <th>Topic11</th>\n",
       "      <td>distribution, probability, prior, sample, density, bayesian, gaussian, estimate, log, approximation, posterior, probabilistic, true, likelihood, stochastic, evidence, probability_distribution, procedure, statistical, variance</td>\n",
       "    </tr>\n",
       "    <tr>\n",
       "      <th>Topic12</th>\n",
       "      <td>neuron, state, memory, dynamic, pattern, phase, attractor, module, capacity, connection, fixed_point, matrix, oscillation, oscillator, delay, hopfield, neural, equation, stable, behavior</td>\n",
       "    </tr>\n",
       "    <tr>\n",
       "      <th>Topic13</th>\n",
       "      <td>image, object, feature, pixel, face, view, surface, edge, visual, scale, representation, region, contour, shape, recognition, vision, scene, location, orientation, local</td>\n",
       "    </tr>\n",
       "    <tr>\n",
       "      <th>Topic14</th>\n",
       "      <td>local, structure, cluster, region, expert, clustering, level, part, mapping, group, similarity, dimension, global, center, feature, dimensional, principle, neighborhood, size, hierarchical</td>\n",
       "    </tr>\n",
       "    <tr>\n",
       "      <th>Topic15</th>\n",
       "      <td>class, classification, classifier, vector, kernel, training, pattern, feature, distance, rbf, machine, test, linear, training_set, nearest_neighbor, margin, transformation, sample, support_vector, radial_basis</td>\n",
       "    </tr>\n",
       "    <tr>\n",
       "      <th>Topic16</th>\n",
       "      <td>state, action, step, policy, reinforcement_learning, task, optimal, environment, goal, robot, reward, td, transition, agent, trial, rl, control, current, reinforcement, cost</td>\n",
       "    </tr>\n",
       "    <tr>\n",
       "      <th>Topic17</th>\n",
       "      <td>cell, neuron, activity, response, synaptic, pattern, stimulus, cortical, layer, firing, cortex, receptive_field, effect, connection, et_al, synapsis, mechanism, simulation, orientation, property</td>\n",
       "    </tr>\n",
       "    <tr>\n",
       "      <th>Topic18</th>\n",
       "      <td>training, layer, unit, hidden_unit, net, task, pattern, trained, architecture, training_set, back_propagation, generalization, hidden_layer, hidden, backpropagation, learn, size, connection, epoch, required</td>\n",
       "    </tr>\n",
       "    <tr>\n",
       "      <th>Topic19</th>\n",
       "      <td>signal, frequency, spike, response, channel, noise, filter, stimulus, temporal, rate, correlation, phase, sound, amplitude, auditory, event, change, neural, threshold, detection</td>\n",
       "    </tr>\n",
       "    <tr>\n",
       "      <th>Topic20</th>\n",
       "      <td>bound, theorem, size, class, threshold, approximation, proof, complexity, theory, polynomial, linear, loss, defined, definition, constant, bounded, property, assume, define, condition</td>\n",
       "    </tr>\n",
       "  </tbody>\n",
       "</table>\n",
       "</div>"
      ],
      "text/plain": [
       "                                                                                                                                                                                                                           Terms per Topic\n",
       "Topic1   control, adaptive, dynamic, controller, forward, feedback, nonlinear, change, desired, adaptation, rate, application, gain, linear, signal, trajectory, behavior, inverse, load, architecture                                    \n",
       "Topic2   word, recognition, speech, training, character, sequence, hmm, context, feature, frame, letter, speaker, mlp, speech_recognition, phoneme, state, digit, trained, vowel, experiment                                              \n",
       "Topic3   node, solution, constraint, tree, graph, code, energy, vector, optimization, bit, variable, path, cost, matrix, distance, match, temperature, assignment, binary, find                                                           \n",
       "Topic4   unit, rule, activation, representation, sequence, recurrent, structure, connectionist, pattern, symbol, language, string, step, level, context, represent, processing, role, note, architecture                                  \n",
       "Topic5   search, feature, experiment, instance, table, query, user, test, concept, domain, random, application, hypothesis, block, target, accuracy, technique, task, machine, human                                                      \n",
       "Topic6   motion, direction, visual, position, map, target, location, field, subject, velocity, movement, motor, human, hand, response, task, cue, spatial, sensory, arm                                                                   \n",
       "Topic7   component, mixture, matrix, variable, vector, gaussian, source, linear, em, step, pca, ica, em_algorithm, basis, hidden, coefficient, approximation, missing, nonlinear, principal_component                                     \n",
       "Topic8   prediction, training, estimate, regression, estimation, ensemble, test, estimator, selection, variance, time_series, variable, cross_validation, training_set, pruning, step, risk, nonlinear, predictor, bias                   \n",
       "Topic9   circuit, chip, current, neuron, voltage, analog, bit, processor, implementation, computation, design, device, synapse, operation, array, digital, parallel, neural, hardware, transistor                                         \n",
       "Topic10  equation, noise, vector, rate, convergence, gradient, optimal, eq, solution, line, curve, linear, theory, constant, matrix, average, rule, gradient_descent, limit, minimum                                                      \n",
       "Topic11  distribution, probability, prior, sample, density, bayesian, gaussian, estimate, log, approximation, posterior, probabilistic, true, likelihood, stochastic, evidence, probability_distribution, procedure, statistical, variance\n",
       "Topic12  neuron, state, memory, dynamic, pattern, phase, attractor, module, capacity, connection, fixed_point, matrix, oscillation, oscillator, delay, hopfield, neural, equation, stable, behavior                                       \n",
       "Topic13  image, object, feature, pixel, face, view, surface, edge, visual, scale, representation, region, contour, shape, recognition, vision, scene, location, orientation, local                                                        \n",
       "Topic14  local, structure, cluster, region, expert, clustering, level, part, mapping, group, similarity, dimension, global, center, feature, dimensional, principle, neighborhood, size, hierarchical                                     \n",
       "Topic15  class, classification, classifier, vector, kernel, training, pattern, feature, distance, rbf, machine, test, linear, training_set, nearest_neighbor, margin, transformation, sample, support_vector, radial_basis                \n",
       "Topic16  state, action, step, policy, reinforcement_learning, task, optimal, environment, goal, robot, reward, td, transition, agent, trial, rl, control, current, reinforcement, cost                                                    \n",
       "Topic17  cell, neuron, activity, response, synaptic, pattern, stimulus, cortical, layer, firing, cortex, receptive_field, effect, connection, et_al, synapsis, mechanism, simulation, orientation, property                               \n",
       "Topic18  training, layer, unit, hidden_unit, net, task, pattern, trained, architecture, training_set, back_propagation, generalization, hidden_layer, hidden, backpropagation, learn, size, connection, epoch, required                   \n",
       "Topic19  signal, frequency, spike, response, channel, noise, filter, stimulus, temporal, rate, correlation, phase, sound, amplitude, auditory, event, change, neural, threshold, detection                                                \n",
       "Topic20  bound, theorem, size, class, threshold, approximation, proof, complexity, theory, polynomial, linear, loss, defined, definition, constant, bounded, property, assume, define, condition                                          "
      ]
     },
     "execution_count": 66,
     "metadata": {},
     "output_type": "execute_result"
    }
   ],
   "source": [
    "pd.set_option('display.max_colwidth', -1)\n",
    "topics_df = pd.DataFrame([', '.join([term for term, wt in topic])  \n",
    "                              for topic in topics],\n",
    "                         columns = ['Terms per Topic'],\n",
    "                         index=['Topic'+str(t) for t in range(1, best_lda_model.num_topics+1)]\n",
    "                         )\n",
    "topics_df"
   ]
  },
  {
   "cell_type": "markdown",
   "metadata": {},
   "source": [
    "The dataframe depicted gives us an easy way to visualize and\n",
    "understand the major themes in our corpus of research papers."
   ]
  },
  {
   "cell_type": "markdown",
   "metadata": {},
   "source": [
    "observed some very interesting themes around neural networks,\n",
    "signal processing, dimension reduction, reinforcement learning, neural models in chips,\n",
    "and image and visual recognition!"
   ]
  },
  {
   "cell_type": "markdown",
   "metadata": {},
   "source": [
    "# Interpreting Topic Model Results"
   ]
  },
  {
   "cell_type": "markdown",
   "metadata": {},
   "source": [
    " given a corpus of documents (in the form of\n",
    "features, e.g., Bag of Words) and a trained topic model, you can predict the distribution of\n",
    "topics in each document (research paper in this case) with the following code."
   ]
  },
  {
   "cell_type": "markdown",
   "metadata": {},
   "source": [
    "We can now get the most dominant topic per research paper with some intelligent\n",
    "sorting and indexing using the following code"
   ]
  },
  {
   "cell_type": "code",
   "execution_count": 67,
   "metadata": {},
   "outputs": [
    {
     "data": {
      "text/plain": [
       "[(19, 0.29809670781893005),\n",
       " (8, 0.2944641916798316),\n",
       " (9, 0.27273315224421163),\n",
       " (11, 0.2211644591611479),\n",
       " (19, 0.4015970098538906)]"
      ]
     },
     "execution_count": 67,
     "metadata": {},
     "output_type": "execute_result"
    }
   ],
   "source": [
    "tm_results = best_lda_model[bow_corpus]\n",
    "corpus_topics = [sorted(topics, key=lambda record: -record[1])[0] for topics in tm_results]\n",
    "corpus_topics[:5]"
   ]
  },
  {
   "cell_type": "markdown",
   "metadata": {},
   "source": [
    "This provides a plethora of options that can be leveraged to extract useful insights\n",
    "from our corpus of research papers"
   ]
  },
  {
   "cell_type": "markdown",
   "metadata": {},
   "source": [
    "To enable this, we construct a master dataframe that\n",
    "will hold the base statistics, which we use soon to depict different useful insights."
   ]
  },
  {
   "cell_type": "code",
   "execution_count": 72,
   "metadata": {},
   "outputs": [],
   "source": [
    "corpus_topic_df = pd.DataFrame()\n",
    "corpus_topic_df['Document'] = range(0, len(papers))\n",
    "corpus_topic_df['Dominant Topic'] = [item[0]+1 for item in corpus_topics]\n",
    "corpus_topic_df['Contribution %'] = [round(item[1]*100, 2) for item in corpus_topics]\n",
    "corpus_topic_df['Topic Desc'] = [topics_df.iloc[t[0]]['Terms per Topic'] for t in corpus_topics]\n",
    "corpus_topic_df['Paper'] = papers"
   ]
  },
  {
   "cell_type": "markdown",
   "metadata": {},
   "source": [
    "**Let’s now take a look at various ways we can transform these results and extract\n",
    "meaningful insights from our research papers and their topics.**"
   ]
  },
  {
   "cell_type": "markdown",
   "metadata": {},
   "source": [
    "# Dominant Topics Distribution Across Corpus"
   ]
  },
  {
   "cell_type": "markdown",
   "metadata": {},
   "source": [
    "The first thing we can do is look at the overall distribution of each topic across the corpus\n",
    "of research papers. Mainly we want to determine the total number of papers and the\n",
    "total percentage of papers where each of the 20 topics was the most dominant"
   ]
  },
  {
   "cell_type": "code",
   "execution_count": 84,
   "metadata": {},
   "outputs": [
    {
     "ename": "SpecificationError",
     "evalue": "nested renamer is not supported",
     "output_type": "error",
     "traceback": [
      "\u001b[1;31m---------------------------------------------------------------------------\u001b[0m",
      "\u001b[1;31mSpecificationError\u001b[0m                        Traceback (most recent call last)",
      "\u001b[1;32m<ipython-input-84-dfa01725c583>\u001b[0m in \u001b[0;36m<module>\u001b[1;34m\u001b[0m\n\u001b[0;32m      3\u001b[0m                                                 'Dominant Topic': {\n\u001b[0;32m      4\u001b[0m                                                     \u001b[1;34m'Doc Count'\u001b[0m\u001b[1;33m:\u001b[0m \u001b[0mnp\u001b[0m\u001b[1;33m.\u001b[0m\u001b[0msize\u001b[0m\u001b[1;33m,\u001b[0m\u001b[1;33m\u001b[0m\u001b[1;33m\u001b[0m\u001b[0m\n\u001b[1;32m----> 5\u001b[1;33m                                                     '% Total Docs': np.size }\n\u001b[0m\u001b[0;32m      6\u001b[0m                                               })\n\u001b[0;32m      7\u001b[0m \u001b[0mtopic_stats_df\u001b[0m \u001b[1;33m=\u001b[0m \u001b[0mtopic_stats_df\u001b[0m\u001b[1;33m[\u001b[0m\u001b[1;34m'Dominant Topic'\u001b[0m\u001b[1;33m]\u001b[0m\u001b[1;33m.\u001b[0m\u001b[0mreset_index\u001b[0m\u001b[1;33m(\u001b[0m\u001b[1;33m)\u001b[0m\u001b[1;33m\u001b[0m\u001b[1;33m\u001b[0m\u001b[0m\n",
      "\u001b[1;32m~\\Anaconda3\\lib\\site-packages\\pandas\\core\\groupby\\generic.py\u001b[0m in \u001b[0;36maggregate\u001b[1;34m(self, func, engine, engine_kwargs, *args, **kwargs)\u001b[0m\n\u001b[0;32m    977\u001b[0m \u001b[1;33m\u001b[0m\u001b[0m\n\u001b[0;32m    978\u001b[0m         \u001b[0mop\u001b[0m \u001b[1;33m=\u001b[0m \u001b[0mGroupByApply\u001b[0m\u001b[1;33m(\u001b[0m\u001b[0mself\u001b[0m\u001b[1;33m,\u001b[0m \u001b[0mfunc\u001b[0m\u001b[1;33m,\u001b[0m \u001b[0margs\u001b[0m\u001b[1;33m,\u001b[0m \u001b[0mkwargs\u001b[0m\u001b[1;33m)\u001b[0m\u001b[1;33m\u001b[0m\u001b[1;33m\u001b[0m\u001b[0m\n\u001b[1;32m--> 979\u001b[1;33m         \u001b[0mresult\u001b[0m \u001b[1;33m=\u001b[0m \u001b[0mop\u001b[0m\u001b[1;33m.\u001b[0m\u001b[0magg\u001b[0m\u001b[1;33m(\u001b[0m\u001b[1;33m)\u001b[0m\u001b[1;33m\u001b[0m\u001b[1;33m\u001b[0m\u001b[0m\n\u001b[0m\u001b[0;32m    980\u001b[0m         \u001b[1;32mif\u001b[0m \u001b[1;32mnot\u001b[0m \u001b[0mis_dict_like\u001b[0m\u001b[1;33m(\u001b[0m\u001b[0mfunc\u001b[0m\u001b[1;33m)\u001b[0m \u001b[1;32mand\u001b[0m \u001b[0mresult\u001b[0m \u001b[1;32mis\u001b[0m \u001b[1;32mnot\u001b[0m \u001b[1;32mNone\u001b[0m\u001b[1;33m:\u001b[0m\u001b[1;33m\u001b[0m\u001b[1;33m\u001b[0m\u001b[0m\n\u001b[0;32m    981\u001b[0m             \u001b[1;32mreturn\u001b[0m \u001b[0mresult\u001b[0m\u001b[1;33m\u001b[0m\u001b[1;33m\u001b[0m\u001b[0m\n",
      "\u001b[1;32m~\\Anaconda3\\lib\\site-packages\\pandas\\core\\apply.py\u001b[0m in \u001b[0;36magg\u001b[1;34m(self)\u001b[0m\n\u001b[0;32m    159\u001b[0m \u001b[1;33m\u001b[0m\u001b[0m\n\u001b[0;32m    160\u001b[0m         \u001b[1;32mif\u001b[0m \u001b[0mis_dict_like\u001b[0m\u001b[1;33m(\u001b[0m\u001b[0marg\u001b[0m\u001b[1;33m)\u001b[0m\u001b[1;33m:\u001b[0m\u001b[1;33m\u001b[0m\u001b[1;33m\u001b[0m\u001b[0m\n\u001b[1;32m--> 161\u001b[1;33m             \u001b[1;32mreturn\u001b[0m \u001b[0mself\u001b[0m\u001b[1;33m.\u001b[0m\u001b[0magg_dict_like\u001b[0m\u001b[1;33m(\u001b[0m\u001b[1;33m)\u001b[0m\u001b[1;33m\u001b[0m\u001b[1;33m\u001b[0m\u001b[0m\n\u001b[0m\u001b[0;32m    162\u001b[0m         \u001b[1;32melif\u001b[0m \u001b[0mis_list_like\u001b[0m\u001b[1;33m(\u001b[0m\u001b[0marg\u001b[0m\u001b[1;33m)\u001b[0m\u001b[1;33m:\u001b[0m\u001b[1;33m\u001b[0m\u001b[1;33m\u001b[0m\u001b[0m\n\u001b[0;32m    163\u001b[0m             \u001b[1;31m# we require a list, but not a 'str'\u001b[0m\u001b[1;33m\u001b[0m\u001b[1;33m\u001b[0m\u001b[1;33m\u001b[0m\u001b[0m\n",
      "\u001b[1;32m~\\Anaconda3\\lib\\site-packages\\pandas\\core\\apply.py\u001b[0m in \u001b[0;36magg_dict_like\u001b[1;34m(self)\u001b[0m\n\u001b[0;32m    425\u001b[0m             \u001b[0mselection\u001b[0m \u001b[1;33m=\u001b[0m \u001b[0mobj\u001b[0m\u001b[1;33m.\u001b[0m\u001b[0m_selection\u001b[0m\u001b[1;33m\u001b[0m\u001b[1;33m\u001b[0m\u001b[0m\n\u001b[0;32m    426\u001b[0m \u001b[1;33m\u001b[0m\u001b[0m\n\u001b[1;32m--> 427\u001b[1;33m         \u001b[0marg\u001b[0m \u001b[1;33m=\u001b[0m \u001b[0mself\u001b[0m\u001b[1;33m.\u001b[0m\u001b[0mnormalize_dictlike_arg\u001b[0m\u001b[1;33m(\u001b[0m\u001b[1;34m\"agg\"\u001b[0m\u001b[1;33m,\u001b[0m \u001b[0mselected_obj\u001b[0m\u001b[1;33m,\u001b[0m \u001b[0marg\u001b[0m\u001b[1;33m)\u001b[0m\u001b[1;33m\u001b[0m\u001b[1;33m\u001b[0m\u001b[0m\n\u001b[0m\u001b[0;32m    428\u001b[0m \u001b[1;33m\u001b[0m\u001b[0m\n\u001b[0;32m    429\u001b[0m         \u001b[1;32mif\u001b[0m \u001b[0mselected_obj\u001b[0m\u001b[1;33m.\u001b[0m\u001b[0mndim\u001b[0m \u001b[1;33m==\u001b[0m \u001b[1;36m1\u001b[0m\u001b[1;33m:\u001b[0m\u001b[1;33m\u001b[0m\u001b[1;33m\u001b[0m\u001b[0m\n",
      "\u001b[1;32m~\\Anaconda3\\lib\\site-packages\\pandas\\core\\apply.py\u001b[0m in \u001b[0;36mnormalize_dictlike_arg\u001b[1;34m(self, how, obj, func)\u001b[0m\n\u001b[0;32m    537\u001b[0m         ) or (any(is_dict_like(v) for _, v in func.items())):\n\u001b[0;32m    538\u001b[0m             \u001b[1;31m# GH 15931 - deprecation of renaming keys\u001b[0m\u001b[1;33m\u001b[0m\u001b[1;33m\u001b[0m\u001b[1;33m\u001b[0m\u001b[0m\n\u001b[1;32m--> 539\u001b[1;33m             \u001b[1;32mraise\u001b[0m \u001b[0mSpecificationError\u001b[0m\u001b[1;33m(\u001b[0m\u001b[1;34m\"nested renamer is not supported\"\u001b[0m\u001b[1;33m)\u001b[0m\u001b[1;33m\u001b[0m\u001b[1;33m\u001b[0m\u001b[0m\n\u001b[0m\u001b[0;32m    540\u001b[0m \u001b[1;33m\u001b[0m\u001b[0m\n\u001b[0;32m    541\u001b[0m         \u001b[1;32mif\u001b[0m \u001b[0mobj\u001b[0m\u001b[1;33m.\u001b[0m\u001b[0mndim\u001b[0m \u001b[1;33m!=\u001b[0m \u001b[1;36m1\u001b[0m\u001b[1;33m:\u001b[0m\u001b[1;33m\u001b[0m\u001b[1;33m\u001b[0m\u001b[0m\n",
      "\u001b[1;31mSpecificationError\u001b[0m: nested renamer is not supported"
     ]
    }
   ],
   "source": [
    "pd.set_option('display.max_colwidth', 200)\n",
    "topic_stats_df = corpus_topic_df.groupby('Dominant Topic').agg({\n",
    "                                                'Dominant Topic': {\n",
    "                                                    'Doc Count': np.size,\n",
    "                                                    '% Total Docs': np.size }\n",
    "                                              })\n",
    "topic_stats_df = topic_stats_df['Dominant Topic'].reset_index()\n",
    "topic_stats_df['% Total Docs'] = topic_stats_df['% Total Docs'].apply(lambda row: round((row*100) / len(papers), 2))\n",
    "topic_stats_df['Topic Desc'] = [topics_df.iloc[t]['Terms per Topic'] for t in range(len(topic_stats_df))]\n",
    "topic_stats_df"
   ]
  },
  {
   "cell_type": "markdown",
   "metadata": {},
   "source": [
    "# Dominant Topics in Specific Research Papers"
   ]
  },
  {
   "cell_type": "code",
   "execution_count": 85,
   "metadata": {},
   "outputs": [
    {
     "data": {
      "text/html": [
       "<div>\n",
       "<style scoped>\n",
       "    .dataframe tbody tr th:only-of-type {\n",
       "        vertical-align: middle;\n",
       "    }\n",
       "\n",
       "    .dataframe tbody tr th {\n",
       "        vertical-align: top;\n",
       "    }\n",
       "\n",
       "    .dataframe thead th {\n",
       "        text-align: right;\n",
       "    }\n",
       "</style>\n",
       "<table border=\"1\" class=\"dataframe\">\n",
       "  <thead>\n",
       "    <tr style=\"text-align: right;\">\n",
       "      <th></th>\n",
       "      <th>Document</th>\n",
       "      <th>Dominant Topic</th>\n",
       "      <th>Contribution %</th>\n",
       "      <th>Topic Desc</th>\n",
       "      <th>Paper</th>\n",
       "    </tr>\n",
       "  </thead>\n",
       "  <tbody>\n",
       "    <tr>\n",
       "      <th>9</th>\n",
       "      <td>9</td>\n",
       "      <td>19</td>\n",
       "      <td>42.50</td>\n",
       "      <td>signal, frequency, spike, response, channel, noise, filter, stimulus, temporal, rate, correlation, phase, sound, amplitude, auditory, event, change, neural, threshold, detection</td>\n",
       "      <td>95 \\nOPTIMAL NEURAL SPIKE CLASSIFICATION \\nAmir F. Atiya(*) and Ja,nes M. Bower(**) \\n(*) Dept. of Electrical Engineering \\n(**) Division of Biology \\nCalifornia Institute of Technology \\nCa 91125...</td>\n",
       "    </tr>\n",
       "    <tr>\n",
       "      <th>13</th>\n",
       "      <td>13</td>\n",
       "      <td>20</td>\n",
       "      <td>36.87</td>\n",
       "      <td>bound, theorem, size, class, threshold, approximation, proof, complexity, theory, polynomial, linear, loss, defined, definition, constant, bounded, property, assume, define, condition</td>\n",
       "      <td>137 \\nOn the \\nPower of Neural Networks for \\nSolving Hard Problems \\nJehoshua Bruck \\nJoseph W. Goodman \\nInformation Systems Laboratory \\nDepartment of Electrical Engineering \\nStanford Universi...</td>\n",
       "    </tr>\n",
       "    <tr>\n",
       "      <th>17</th>\n",
       "      <td>17</td>\n",
       "      <td>3</td>\n",
       "      <td>23.10</td>\n",
       "      <td>node, solution, constraint, tree, graph, code, energy, vector, optimization, bit, variable, path, cost, matrix, distance, match, temperature, assignment, binary, find</td>\n",
       "      <td>174 \\nA Neural Network C1A-sifier Based on Coding Theory \\nTzi-Dar Chiueh and Rodney Goodman \\nCalifornia Institute of Technology, Pasadena, California 91125 \\nABSTRACT\\nThe new neural network cla...</td>\n",
       "    </tr>\n",
       "    <tr>\n",
       "      <th>392</th>\n",
       "      <td>392</td>\n",
       "      <td>4</td>\n",
       "      <td>48.99</td>\n",
       "      <td>unit, rule, activation, representation, sequence, recurrent, structure, connectionist, pattern, symbol, language, string, step, level, context, represent, processing, role, note, architecture</td>\n",
       "      <td>Connectionist Music Composition Based on \\nMelodic and Stylistic Constraints \\nMichael C. Mozer \\nDepartment of Computer Science \\nand Institute of Cognitive Science \\nUniversity of Colorado \\nBou...</td>\n",
       "    </tr>\n",
       "    <tr>\n",
       "      <th>503</th>\n",
       "      <td>503</td>\n",
       "      <td>6</td>\n",
       "      <td>53.73</td>\n",
       "      <td>motion, direction, visual, position, map, target, location, field, subject, velocity, movement, motor, human, hand, response, task, cue, spatial, sensory, arm</td>\n",
       "      <td>A Cortico-Cerebellar Model that Learns to \\nGenerate Distributed Motor Commands to \\nControl a Kinematic Arm \\nN.E. Bertbier S.P. Singh A.CI. Barto \\nDepartment of Computer Science \\nUniversity of...</td>\n",
       "    </tr>\n",
       "    <tr>\n",
       "      <th>681</th>\n",
       "      <td>681</td>\n",
       "      <td>5</td>\n",
       "      <td>53.35</td>\n",
       "      <td>search, feature, experiment, instance, table, query, user, test, concept, domain, random, application, hypothesis, block, target, accuracy, technique, task, machine, human</td>\n",
       "      <td>A Knowledge-Based Model of Geometry Learning \\nGeoffrey Towell \\nSiemens Corporate Research \\n755 College Road East \\nPrinceton, NJ 08540 \\ntoweli @ learning. siemens. com \\nRichard Lehrer \\nEduca...</td>\n",
       "    </tr>\n",
       "    <tr>\n",
       "      <th>733</th>\n",
       "      <td>733</td>\n",
       "      <td>8</td>\n",
       "      <td>33.51</td>\n",
       "      <td>prediction, training, estimate, regression, estimation, ensemble, test, estimator, selection, variance, time_series, variable, cross_validation, training_set, pruning, step, risk, nonlinear, predi...</td>\n",
       "      <td>Optimal Brain Surgeon: \\nExtensions and performance comparisons \\nBabak Hassibi* \\nDavid G. Stork \\nGregory Wolff \\nTakahiro Watanabe \\nRicoh California Research Center \\n2882 Sand Hill Road Suite...</td>\n",
       "    </tr>\n",
       "    <tr>\n",
       "      <th>906</th>\n",
       "      <td>906</td>\n",
       "      <td>4</td>\n",
       "      <td>28.87</td>\n",
       "      <td>unit, rule, activation, representation, sequence, recurrent, structure, connectionist, pattern, symbol, language, string, step, level, context, represent, processing, role, note, architecture</td>\n",
       "      <td>Extracting Rules from Artificial Neural Networks \\nwith Distributed Representations \\nSebastian Thrun \\nUniversity of Bonn \\nDepartment of Computer Science III \\nR6merstr. 164, D-53117 Bonn, Germa...</td>\n",
       "    </tr>\n",
       "    <tr>\n",
       "      <th>996</th>\n",
       "      <td>996</td>\n",
       "      <td>6</td>\n",
       "      <td>56.38</td>\n",
       "      <td>motion, direction, visual, position, map, target, location, field, subject, velocity, movement, motor, human, hand, response, task, cue, spatial, sensory, arm</td>\n",
       "      <td>A Dynamical Model of Context Dependencies for the \\nVestibulo-Ocular Reflex \\nO!ivier J.M.D. Coenen* \\nTerrence J. Sejnowskit \\nComputational Neurobiology Laboratory \\nHoward Hughes Medical Instit...</td>\n",
       "    </tr>\n",
       "    <tr>\n",
       "      <th>1622</th>\n",
       "      <td>1622</td>\n",
       "      <td>15</td>\n",
       "      <td>47.69</td>\n",
       "      <td>class, classification, classifier, vector, kernel, training, pattern, feature, distance, rbf, machine, test, linear, training_set, nearest_neighbor, margin, transformation, sample, support_vector,...</td>\n",
       "      <td>Model Selection for Support Vector Machines \\nOlivier Chapelle*,t, Vladimir Vapnik* \\n* AT&amp;T Research Labs, Red Bank, NJ \\nt LIP6, Paris, France \\n{ chapelle, vlad} @research. att. com \\nAbstract ...</td>\n",
       "    </tr>\n",
       "  </tbody>\n",
       "</table>\n",
       "</div>"
      ],
      "text/plain": [
       "      Document  Dominant Topic  Contribution %  \\\n",
       "9            9              19           42.50   \n",
       "13          13              20           36.87   \n",
       "17          17               3           23.10   \n",
       "392        392               4           48.99   \n",
       "503        503               6           53.73   \n",
       "681        681               5           53.35   \n",
       "733        733               8           33.51   \n",
       "906        906               4           28.87   \n",
       "996        996               6           56.38   \n",
       "1622      1622              15           47.69   \n",
       "\n",
       "                                                                                                                                                                                                   Topic Desc  \\\n",
       "9                           signal, frequency, spike, response, channel, noise, filter, stimulus, temporal, rate, correlation, phase, sound, amplitude, auditory, event, change, neural, threshold, detection   \n",
       "13                    bound, theorem, size, class, threshold, approximation, proof, complexity, theory, polynomial, linear, loss, defined, definition, constant, bounded, property, assume, define, condition   \n",
       "17                                     node, solution, constraint, tree, graph, code, energy, vector, optimization, bit, variable, path, cost, matrix, distance, match, temperature, assignment, binary, find   \n",
       "392           unit, rule, activation, representation, sequence, recurrent, structure, connectionist, pattern, symbol, language, string, step, level, context, represent, processing, role, note, architecture   \n",
       "503                                            motion, direction, visual, position, map, target, location, field, subject, velocity, movement, motor, human, hand, response, task, cue, spatial, sensory, arm   \n",
       "681                               search, feature, experiment, instance, table, query, user, test, concept, domain, random, application, hypothesis, block, target, accuracy, technique, task, machine, human   \n",
       "733   prediction, training, estimate, regression, estimation, ensemble, test, estimator, selection, variance, time_series, variable, cross_validation, training_set, pruning, step, risk, nonlinear, predi...   \n",
       "906           unit, rule, activation, representation, sequence, recurrent, structure, connectionist, pattern, symbol, language, string, step, level, context, represent, processing, role, note, architecture   \n",
       "996                                            motion, direction, visual, position, map, target, location, field, subject, velocity, movement, motor, human, hand, response, task, cue, spatial, sensory, arm   \n",
       "1622  class, classification, classifier, vector, kernel, training, pattern, feature, distance, rbf, machine, test, linear, training_set, nearest_neighbor, margin, transformation, sample, support_vector,...   \n",
       "\n",
       "                                                                                                                                                                                                        Paper  \n",
       "9     95 \\nOPTIMAL NEURAL SPIKE CLASSIFICATION \\nAmir F. Atiya(*) and Ja,nes M. Bower(**) \\n(*) Dept. of Electrical Engineering \\n(**) Division of Biology \\nCalifornia Institute of Technology \\nCa 91125...  \n",
       "13    137 \\nOn the \\nPower of Neural Networks for \\nSolving Hard Problems \\nJehoshua Bruck \\nJoseph W. Goodman \\nInformation Systems Laboratory \\nDepartment of Electrical Engineering \\nStanford Universi...  \n",
       "17    174 \\nA Neural Network C1A-sifier Based on Coding Theory \\nTzi-Dar Chiueh and Rodney Goodman \\nCalifornia Institute of Technology, Pasadena, California 91125 \\nABSTRACT\\nThe new neural network cla...  \n",
       "392   Connectionist Music Composition Based on \\nMelodic and Stylistic Constraints \\nMichael C. Mozer \\nDepartment of Computer Science \\nand Institute of Cognitive Science \\nUniversity of Colorado \\nBou...  \n",
       "503   A Cortico-Cerebellar Model that Learns to \\nGenerate Distributed Motor Commands to \\nControl a Kinematic Arm \\nN.E. Bertbier S.P. Singh A.CI. Barto \\nDepartment of Computer Science \\nUniversity of...  \n",
       "681   A Knowledge-Based Model of Geometry Learning \\nGeoffrey Towell \\nSiemens Corporate Research \\n755 College Road East \\nPrinceton, NJ 08540 \\ntoweli @ learning. siemens. com \\nRichard Lehrer \\nEduca...  \n",
       "733   Optimal Brain Surgeon: \\nExtensions and performance comparisons \\nBabak Hassibi* \\nDavid G. Stork \\nGregory Wolff \\nTakahiro Watanabe \\nRicoh California Research Center \\n2882 Sand Hill Road Suite...  \n",
       "906   Extracting Rules from Artificial Neural Networks \\nwith Distributed Representations \\nSebastian Thrun \\nUniversity of Bonn \\nDepartment of Computer Science III \\nR6merstr. 164, D-53117 Bonn, Germa...  \n",
       "996   A Dynamical Model of Context Dependencies for the \\nVestibulo-Ocular Reflex \\nO!ivier J.M.D. Coenen* \\nTerrence J. Sejnowskit \\nComputational Neurobiology Laboratory \\nHoward Hughes Medical Instit...  \n",
       "1622  Model Selection for Support Vector Machines \\nOlivier Chapelle*,t, Vladimir Vapnik* \\n* AT&T Research Labs, Red Bank, NJ \\nt LIP6, Paris, France \\n{ chapelle, vlad} @research. att. com \\nAbstract ...  "
      ]
     },
     "execution_count": 85,
     "metadata": {},
     "output_type": "execute_result"
    }
   ],
   "source": [
    "pd.set_option('display.max_colwidth', 200)\n",
    "(corpus_topic_df[corpus_topic_df['Document']\n",
    "                 .isin([681, 9, 392, 1622, 17, \n",
    "                        906, 996, 503, 13, 733])])"
   ]
  },
  {
   "cell_type": "markdown",
   "metadata": {},
   "source": [
    "# Relevant Research Papers per Topic based on Dominance"
   ]
  },
  {
   "cell_type": "code",
   "execution_count": 86,
   "metadata": {},
   "outputs": [
    {
     "data": {
      "text/html": [
       "<div>\n",
       "<style scoped>\n",
       "    .dataframe tbody tr th:only-of-type {\n",
       "        vertical-align: middle;\n",
       "    }\n",
       "\n",
       "    .dataframe tbody tr th {\n",
       "        vertical-align: top;\n",
       "    }\n",
       "\n",
       "    .dataframe thead th {\n",
       "        text-align: right;\n",
       "    }\n",
       "</style>\n",
       "<table border=\"1\" class=\"dataframe\">\n",
       "  <thead>\n",
       "    <tr style=\"text-align: right;\">\n",
       "      <th></th>\n",
       "      <th>Document</th>\n",
       "      <th>Dominant Topic</th>\n",
       "      <th>Contribution %</th>\n",
       "      <th>Topic Desc</th>\n",
       "      <th>Paper</th>\n",
       "    </tr>\n",
       "    <tr>\n",
       "      <th>Dominant Topic</th>\n",
       "      <th></th>\n",
       "      <th></th>\n",
       "      <th></th>\n",
       "      <th></th>\n",
       "      <th></th>\n",
       "    </tr>\n",
       "  </thead>\n",
       "  <tbody>\n",
       "    <tr>\n",
       "      <th>1</th>\n",
       "      <td>971</td>\n",
       "      <td>1</td>\n",
       "      <td>67.81</td>\n",
       "      <td>control, adaptive, dynamic, controller, forward, feedback, nonlinear, change, desired, adaptation, rate, application, gain, linear, signal, trajectory, behavior, inverse, load, architecture</td>\n",
       "      <td>An Integrated Architecture of Adaptive Neural Network \\nControl for Dynamic Systems \\nLiu Ke '2 Robert L. Tokaf Brian D.McVey z \\nCenter for Nonlinear Studies, 2Applied Theoretical Physics Divis...</td>\n",
       "    </tr>\n",
       "    <tr>\n",
       "      <th>2</th>\n",
       "      <td>660</td>\n",
       "      <td>2</td>\n",
       "      <td>71.35</td>\n",
       "      <td>word, recognition, speech, training, character, sequence, hmm, context, feature, frame, letter, speaker, mlp, speech_recognition, phoneme, state, digit, trained, vowel, experiment</td>\n",
       "      <td>Connected Letter Recognition with a \\nMulti-State Time Delay Neural Network \\nHermann Hild and Alex Waibel \\nSchool of Computer Science \\nCarnegie Mellon University \\nPittsburgh, PA 15213-3891, US...</td>\n",
       "    </tr>\n",
       "    <tr>\n",
       "      <th>3</th>\n",
       "      <td>1072</td>\n",
       "      <td>3</td>\n",
       "      <td>66.79</td>\n",
       "      <td>node, solution, constraint, tree, graph, code, energy, vector, optimization, bit, variable, path, cost, matrix, distance, match, temperature, assignment, binary, find</td>\n",
       "      <td>Softassign versus Softmax: Benchmarks \\nin Combinatorial Optimization \\nSteven Gold \\nDepartment of Computer Science \\nYale University \\nNew Haven, CT 06520-8285 \\nAnand Rangarajan \\nDept. of Diag...</td>\n",
       "    </tr>\n",
       "    <tr>\n",
       "      <th>4</th>\n",
       "      <td>678</td>\n",
       "      <td>4</td>\n",
       "      <td>69.11</td>\n",
       "      <td>unit, rule, activation, representation, sequence, recurrent, structure, connectionist, pattern, symbol, language, string, step, level, context, represent, processing, role, note, architecture</td>\n",
       "      <td>A Connectionist Symbol Manipulator \\nThat Discovers the Structure of \\nContext-Free Languages \\nMichael C. Mozer and Sreerupa Das \\nDepartment of Computer Science &amp; \\nInstitute of Cognitive Scienc...</td>\n",
       "    </tr>\n",
       "    <tr>\n",
       "      <th>5</th>\n",
       "      <td>1418</td>\n",
       "      <td>5</td>\n",
       "      <td>59.98</td>\n",
       "      <td>search, feature, experiment, instance, table, query, user, test, concept, domain, random, application, hypothesis, block, target, accuracy, technique, task, machine, human</td>\n",
       "      <td>Learning to Schedule Straight-Line Code \\nEliot Moss, Paul Utgoff, John Cavazos \\nDoina Precup, Darko Stefanovi(: \\nDept. of Comp. Sci., Univ. of Mass. \\nAmherst, MA 01003 \\nCarla Brodley, David S...</td>\n",
       "    </tr>\n",
       "    <tr>\n",
       "      <th>6</th>\n",
       "      <td>504</td>\n",
       "      <td>6</td>\n",
       "      <td>69.99</td>\n",
       "      <td>motion, direction, visual, position, map, target, location, field, subject, velocity, movement, motor, human, hand, response, task, cue, spatial, sensory, arm</td>\n",
       "      <td>A Computational Mechanism To Account For \\nAveraged Modified Hand Trajectories \\nEalan A. Henis*and Tamar Flash \\nDepartment of Applied Mathematics and Computer Science \\nThe Weizmann Institute of...</td>\n",
       "    </tr>\n",
       "    <tr>\n",
       "      <th>7</th>\n",
       "      <td>1510</td>\n",
       "      <td>7</td>\n",
       "      <td>57.70</td>\n",
       "      <td>component, mixture, matrix, variable, vector, gaussian, source, linear, em, step, pca, ica, em_algorithm, basis, hidden, coefficient, approximation, missing, nonlinear, principal_component</td>\n",
       "      <td>Unsupervised Classification with \\nNon-Gaussian Mixture Models using ICA \\nTe-Won Lee, Michael S. Lewicki and Terrence Sejnowski \\nHoward Hughes Medical Institute \\nComputational Neurobiology Labo...</td>\n",
       "    </tr>\n",
       "    <tr>\n",
       "      <th>8</th>\n",
       "      <td>512</td>\n",
       "      <td>8</td>\n",
       "      <td>57.37</td>\n",
       "      <td>prediction, training, estimate, regression, estimation, ensemble, test, estimator, selection, variance, time_series, variable, cross_validation, training_set, pruning, step, risk, nonlinear, predi...</td>\n",
       "      <td>Principled Architecture Selection \\nfor Neural Networks: \\nApplication to Corporate Bond Rating Prediction \\nJohn Moody \\nDepartment of Computer Science \\nYale University \\nP.O. Box 2158 Yale Stat...</td>\n",
       "    </tr>\n",
       "    <tr>\n",
       "      <th>9</th>\n",
       "      <td>945</td>\n",
       "      <td>9</td>\n",
       "      <td>71.47</td>\n",
       "      <td>circuit, chip, current, neuron, voltage, analog, bit, processor, implementation, computation, design, device, synapse, operation, array, digital, parallel, neural, hardware, transistor</td>\n",
       "      <td>Single Transistor Learning Synapses \\nPaul Hasler, Chris Diorio, Bradley A. Minch, Carver Mead \\nCalifornia Institute of Technology \\nPasadena, CA 91125 \\n(SlS) 95- 2S12 \\npaul@hobiecat.pcmp.calt...</td>\n",
       "    </tr>\n",
       "    <tr>\n",
       "      <th>10</th>\n",
       "      <td>1466</td>\n",
       "      <td>10</td>\n",
       "      <td>69.33</td>\n",
       "      <td>equation, noise, vector, rate, convergence, gradient, optimal, eq, solution, line, curve, linear, theory, constant, matrix, average, rule, gradient_descent, limit, minimum</td>\n",
       "      <td>Dynamics of Supervised Learning with \\nRestricted Training Sets \\nA.C.C. Coolen \\nDept of Mathematics \\nKing's College London \\nStrand, London WC2R 2LS, UK \\ntcoolen @mth.kcl.ac.uk \\nD. Saad \\nNeu...</td>\n",
       "    </tr>\n",
       "    <tr>\n",
       "      <th>11</th>\n",
       "      <td>1357</td>\n",
       "      <td>11</td>\n",
       "      <td>54.64</td>\n",
       "      <td>distribution, probability, prior, sample, density, bayesian, gaussian, estimate, log, approximation, posterior, probabilistic, true, likelihood, stochastic, evidence, probability_distribution, pro...</td>\n",
       "      <td>Regression with Input-dependent Noise: \\nA Gaussian Process Treatment \\nPaul W. Goldberg \\nDepartment of Computer Science \\nUniversity of Warwick \\nCoventry, CV4 7AL, UK \\npgdcs. arick. ac. uk...</td>\n",
       "    </tr>\n",
       "    <tr>\n",
       "      <th>12</th>\n",
       "      <td>155</td>\n",
       "      <td>12</td>\n",
       "      <td>64.31</td>\n",
       "      <td>neuron, state, memory, dynamic, pattern, phase, attractor, module, capacity, connection, fixed_point, matrix, oscillation, oscillator, delay, hopfield, neural, equation, stable, behavior</td>\n",
       "      <td>568 \\nDYNAMICS OF ANALOG NEURAL \\nNETWORKS WITH TIME DELAY \\nC.M. Marcus and R.M. Westervelt \\nDivision of Applied Sciences and Department of Physics \\nHarvard University, Cambridge Massachusetts ...</td>\n",
       "    </tr>\n",
       "    <tr>\n",
       "      <th>13</th>\n",
       "      <td>124</td>\n",
       "      <td>13</td>\n",
       "      <td>58.10</td>\n",
       "      <td>image, object, feature, pixel, face, view, surface, edge, visual, scale, representation, region, contour, shape, recognition, vision, scene, location, orientation, local</td>\n",
       "      <td>297 \\nA NETWORK FOR IMAGE SEGMENTATION \\nUSING COLOR \\nAnya Hurlbert and Tomaso Poggio \\nCenter for Biological Information Processing at Whitaker College \\nDepartment of Brain and Cognitive Scienc...</td>\n",
       "    </tr>\n",
       "    <tr>\n",
       "      <th>14</th>\n",
       "      <td>588</td>\n",
       "      <td>14</td>\n",
       "      <td>43.03</td>\n",
       "      <td>local, structure, cluster, region, expert, clustering, level, part, mapping, group, similarity, dimension, global, center, feature, dimensional, principle, neighborhood, size, hierarchical</td>\n",
       "      <td>Kohonen Feature Maps and Growing \\nCell Structures- \\na Performance Comparison \\nBernd Fritzke \\nInternational Computer Science Institute \\n1947 Center Street, Suite 600 \\nBerkeley, CA 94704-1105,...</td>\n",
       "    </tr>\n",
       "    <tr>\n",
       "      <th>15</th>\n",
       "      <td>1188</td>\n",
       "      <td>15</td>\n",
       "      <td>62.82</td>\n",
       "      <td>class, classification, classifier, vector, kernel, training, pattern, feature, distance, rbf, machine, test, linear, training_set, nearest_neighbor, margin, transformation, sample, support_vector,...</td>\n",
       "      <td>Improving the Accuracy and Speed of \\nSupport Vector Machines \\nChris J.C. Burges \\nBell Laboratories \\nLucent Technologies, Room 3G429 \\n101 Crawford's Corner Road \\nHolmdel, NJ 07733-3030 \\nburg...</td>\n",
       "    </tr>\n",
       "    <tr>\n",
       "      <th>16</th>\n",
       "      <td>1580</td>\n",
       "      <td>16</td>\n",
       "      <td>76.89</td>\n",
       "      <td>state, action, step, policy, reinforcement_learning, task, optimal, environment, goal, robot, reward, td, transition, agent, trial, rl, control, current, reinforcement, cost</td>\n",
       "      <td>The effect of eligibility traces on finding optimal memoryless \\npolicies in partially observable Markov decision processes \\nJohn Loch \\nDepartment of Computer Science \\nUniversity of Colorado \\n...</td>\n",
       "    </tr>\n",
       "    <tr>\n",
       "      <th>17</th>\n",
       "      <td>440</td>\n",
       "      <td>17</td>\n",
       "      <td>77.16</td>\n",
       "      <td>cell, neuron, activity, response, synaptic, pattern, stimulus, cortical, layer, firing, cortex, receptive_field, effect, connection, et_al, synapsis, mechanism, simulation, orientation, property</td>\n",
       "      <td>Retinogeniculate Development: \\nThe Role of Competition and Correlated Retinal \\nActivity \\nRon Keesing* \\nDept. of Physiology \\nU.C. San Francisco \\nSan Francisco, CA 94143 \\nkeesing@phy.ucsf.edu...</td>\n",
       "    </tr>\n",
       "    <tr>\n",
       "      <th>18</th>\n",
       "      <td>248</td>\n",
       "      <td>18</td>\n",
       "      <td>57.09</td>\n",
       "      <td>training, layer, unit, hidden_unit, net, task, pattern, trained, architecture, training_set, back_propagation, generalization, hidden_layer, hidden, backpropagation, learn, size, connection, epoch...</td>\n",
       "      <td>524 Fahlman and Lebiere \\nThe Cascade-Correlation Learning Architecture \\nScott E. Fahlman and Christian Lebiere \\nSchool of Computer Science \\nCarnegie-Mellon University \\nPittsburgh, PA 15213 \\n...</td>\n",
       "    </tr>\n",
       "    <tr>\n",
       "      <th>19</th>\n",
       "      <td>1694</td>\n",
       "      <td>19</td>\n",
       "      <td>69.95</td>\n",
       "      <td>signal, frequency, spike, response, channel, noise, filter, stimulus, temporal, rate, correlation, phase, sound, amplitude, auditory, event, change, neural, threshold, detection</td>\n",
       "      <td>An Analog VLSI Model of \\nPeriodicity Extraction \\nAndr6 van Schaik \\nComputer Engineering Laboratory \\nJ03, University of Sydney, NSW 2006 \\nSydney, Australia \\nandrenee. usyd. edu.au \\nAbstract ...</td>\n",
       "    </tr>\n",
       "    <tr>\n",
       "      <th>20</th>\n",
       "      <td>575</td>\n",
       "      <td>20</td>\n",
       "      <td>73.55</td>\n",
       "      <td>bound, theorem, size, class, threshold, approximation, proof, complexity, theory, polynomial, linear, loss, defined, definition, constant, bounded, property, assume, define, condition</td>\n",
       "      <td>Computing with Almost Optimal Size Neural \\nNetworks \\nKai-Yeung Siu \\nDept. of Electrical &amp;; Comp. Engineering \\nUniversity of California, Irvine \\nIrvine, CA 92717 \\nVwani Roychowdhury \\nSchool ...</td>\n",
       "    </tr>\n",
       "  </tbody>\n",
       "</table>\n",
       "</div>"
      ],
      "text/plain": [
       "                Document  Dominant Topic  Contribution %  \\\n",
       "Dominant Topic                                             \n",
       "1                    971               1           67.81   \n",
       "2                    660               2           71.35   \n",
       "3                   1072               3           66.79   \n",
       "4                    678               4           69.11   \n",
       "5                   1418               5           59.98   \n",
       "6                    504               6           69.99   \n",
       "7                   1510               7           57.70   \n",
       "8                    512               8           57.37   \n",
       "9                    945               9           71.47   \n",
       "10                  1466              10           69.33   \n",
       "11                  1357              11           54.64   \n",
       "12                   155              12           64.31   \n",
       "13                   124              13           58.10   \n",
       "14                   588              14           43.03   \n",
       "15                  1188              15           62.82   \n",
       "16                  1580              16           76.89   \n",
       "17                   440              17           77.16   \n",
       "18                   248              18           57.09   \n",
       "19                  1694              19           69.95   \n",
       "20                   575              20           73.55   \n",
       "\n",
       "                                                                                                                                                                                                             Topic Desc  \\\n",
       "Dominant Topic                                                                                                                                                                                                            \n",
       "1                         control, adaptive, dynamic, controller, forward, feedback, nonlinear, change, desired, adaptation, rate, application, gain, linear, signal, trajectory, behavior, inverse, load, architecture   \n",
       "2                                   word, recognition, speech, training, character, sequence, hmm, context, feature, frame, letter, speaker, mlp, speech_recognition, phoneme, state, digit, trained, vowel, experiment   \n",
       "3                                                node, solution, constraint, tree, graph, code, energy, vector, optimization, bit, variable, path, cost, matrix, distance, match, temperature, assignment, binary, find   \n",
       "4                       unit, rule, activation, representation, sequence, recurrent, structure, connectionist, pattern, symbol, language, string, step, level, context, represent, processing, role, note, architecture   \n",
       "5                                           search, feature, experiment, instance, table, query, user, test, concept, domain, random, application, hypothesis, block, target, accuracy, technique, task, machine, human   \n",
       "6                                                        motion, direction, visual, position, map, target, location, field, subject, velocity, movement, motor, human, hand, response, task, cue, spatial, sensory, arm   \n",
       "7                          component, mixture, matrix, variable, vector, gaussian, source, linear, em, step, pca, ica, em_algorithm, basis, hidden, coefficient, approximation, missing, nonlinear, principal_component   \n",
       "8               prediction, training, estimate, regression, estimation, ensemble, test, estimator, selection, variance, time_series, variable, cross_validation, training_set, pruning, step, risk, nonlinear, predi...   \n",
       "9                              circuit, chip, current, neuron, voltage, analog, bit, processor, implementation, computation, design, device, synapse, operation, array, digital, parallel, neural, hardware, transistor   \n",
       "10                                          equation, noise, vector, rate, convergence, gradient, optimal, eq, solution, line, curve, linear, theory, constant, matrix, average, rule, gradient_descent, limit, minimum   \n",
       "11              distribution, probability, prior, sample, density, bayesian, gaussian, estimate, log, approximation, posterior, probabilistic, true, likelihood, stochastic, evidence, probability_distribution, pro...   \n",
       "12                           neuron, state, memory, dynamic, pattern, phase, attractor, module, capacity, connection, fixed_point, matrix, oscillation, oscillator, delay, hopfield, neural, equation, stable, behavior   \n",
       "13                                            image, object, feature, pixel, face, view, surface, edge, visual, scale, representation, region, contour, shape, recognition, vision, scene, location, orientation, local   \n",
       "14                         local, structure, cluster, region, expert, clustering, level, part, mapping, group, similarity, dimension, global, center, feature, dimensional, principle, neighborhood, size, hierarchical   \n",
       "15              class, classification, classifier, vector, kernel, training, pattern, feature, distance, rbf, machine, test, linear, training_set, nearest_neighbor, margin, transformation, sample, support_vector,...   \n",
       "16                                        state, action, step, policy, reinforcement_learning, task, optimal, environment, goal, robot, reward, td, transition, agent, trial, rl, control, current, reinforcement, cost   \n",
       "17                   cell, neuron, activity, response, synaptic, pattern, stimulus, cortical, layer, firing, cortex, receptive_field, effect, connection, et_al, synapsis, mechanism, simulation, orientation, property   \n",
       "18              training, layer, unit, hidden_unit, net, task, pattern, trained, architecture, training_set, back_propagation, generalization, hidden_layer, hidden, backpropagation, learn, size, connection, epoch...   \n",
       "19                                    signal, frequency, spike, response, channel, noise, filter, stimulus, temporal, rate, correlation, phase, sound, amplitude, auditory, event, change, neural, threshold, detection   \n",
       "20                              bound, theorem, size, class, threshold, approximation, proof, complexity, theory, polynomial, linear, loss, defined, definition, constant, bounded, property, assume, define, condition   \n",
       "\n",
       "                                                                                                                                                                                                                  Paper  \n",
       "Dominant Topic                                                                                                                                                                                                           \n",
       "1               An Integrated Architecture of Adaptive Neural Network \\nControl for Dynamic Systems \\nLiu Ke '2 Robert L. Tokaf Brian D.McVey z \\nCenter for Nonlinear Studies, 2Applied Theoretical Physics Divis...  \n",
       "2               Connected Letter Recognition with a \\nMulti-State Time Delay Neural Network \\nHermann Hild and Alex Waibel \\nSchool of Computer Science \\nCarnegie Mellon University \\nPittsburgh, PA 15213-3891, US...  \n",
       "3               Softassign versus Softmax: Benchmarks \\nin Combinatorial Optimization \\nSteven Gold \\nDepartment of Computer Science \\nYale University \\nNew Haven, CT 06520-8285 \\nAnand Rangarajan \\nDept. of Diag...  \n",
       "4               A Connectionist Symbol Manipulator \\nThat Discovers the Structure of \\nContext-Free Languages \\nMichael C. Mozer and Sreerupa Das \\nDepartment of Computer Science & \\nInstitute of Cognitive Scienc...  \n",
       "5               Learning to Schedule Straight-Line Code \\nEliot Moss, Paul Utgoff, John Cavazos \\nDoina Precup, Darko Stefanovi(: \\nDept. of Comp. Sci., Univ. of Mass. \\nAmherst, MA 01003 \\nCarla Brodley, David S...  \n",
       "6               A Computational Mechanism To Account For \\nAveraged Modified Hand Trajectories \\nEalan A. Henis*and Tamar Flash \\nDepartment of Applied Mathematics and Computer Science \\nThe Weizmann Institute of...  \n",
       "7               Unsupervised Classification with \\nNon-Gaussian Mixture Models using ICA \\nTe-Won Lee, Michael S. Lewicki and Terrence Sejnowski \\nHoward Hughes Medical Institute \\nComputational Neurobiology Labo...  \n",
       "8               Principled Architecture Selection \\nfor Neural Networks: \\nApplication to Corporate Bond Rating Prediction \\nJohn Moody \\nDepartment of Computer Science \\nYale University \\nP.O. Box 2158 Yale Stat...  \n",
       "9               Single Transistor Learning Synapses \\nPaul Hasler, Chris Diorio, Bradley A. Minch, Carver Mead \\nCalifornia Institute of Technology \\nPasadena, CA 91125 \\n(SlS) 95- 2S12 \\npaul@hobiecat.pcmp.calt...  \n",
       "10              Dynamics of Supervised Learning with \\nRestricted Training Sets \\nA.C.C. Coolen \\nDept of Mathematics \\nKing's College London \\nStrand, London WC2R 2LS, UK \\ntcoolen @mth.kcl.ac.uk \\nD. Saad \\nNeu...  \n",
       "11              Regression with Input-dependent Noise: \\nA Gaussian Process Treatment \\nPaul W. Goldberg \\nDepartment of Computer Science \\nUniversity of Warwick \\nCoventry, CV4 7AL, UK \\npgdcs. arick. ac. uk...  \n",
       "12              568 \\nDYNAMICS OF ANALOG NEURAL \\nNETWORKS WITH TIME DELAY \\nC.M. Marcus and R.M. Westervelt \\nDivision of Applied Sciences and Department of Physics \\nHarvard University, Cambridge Massachusetts ...  \n",
       "13              297 \\nA NETWORK FOR IMAGE SEGMENTATION \\nUSING COLOR \\nAnya Hurlbert and Tomaso Poggio \\nCenter for Biological Information Processing at Whitaker College \\nDepartment of Brain and Cognitive Scienc...  \n",
       "14              Kohonen Feature Maps and Growing \\nCell Structures- \\na Performance Comparison \\nBernd Fritzke \\nInternational Computer Science Institute \\n1947 Center Street, Suite 600 \\nBerkeley, CA 94704-1105,...  \n",
       "15              Improving the Accuracy and Speed of \\nSupport Vector Machines \\nChris J.C. Burges \\nBell Laboratories \\nLucent Technologies, Room 3G429 \\n101 Crawford's Corner Road \\nHolmdel, NJ 07733-3030 \\nburg...  \n",
       "16              The effect of eligibility traces on finding optimal memoryless \\npolicies in partially observable Markov decision processes \\nJohn Loch \\nDepartment of Computer Science \\nUniversity of Colorado \\n...  \n",
       "17              Retinogeniculate Development: \\nThe Role of Competition and Correlated Retinal \\nActivity \\nRon Keesing* \\nDept. of Physiology \\nU.C. San Francisco \\nSan Francisco, CA 94143 \\nkeesing@phy.ucsf.edu...  \n",
       "18              524 Fahlman and Lebiere \\nThe Cascade-Correlation Learning Architecture \\nScott E. Fahlman and Christian Lebiere \\nSchool of Computer Science \\nCarnegie-Mellon University \\nPittsburgh, PA 15213 \\n...  \n",
       "19              An Analog VLSI Model of \\nPeriodicity Extraction \\nAndr6 van Schaik \\nComputer Engineering Laboratory \\nJ03, University of Sydney, NSW 2006 \\nSydney, Australia \\nandrenee. usyd. edu.au \\nAbstract ...  \n",
       "20              Computing with Almost Optimal Size Neural \\nNetworks \\nKai-Yeung Siu \\nDept. of Electrical &; Comp. Engineering \\nUniversity of California, Irvine \\nIrvine, CA 92717 \\nVwani Roychowdhury \\nSchool ...  "
      ]
     },
     "execution_count": 86,
     "metadata": {},
     "output_type": "execute_result"
    }
   ],
   "source": [
    "corpus_topic_df.groupby('Dominant Topic').apply(lambda topic_set: (topic_set.sort_values(by=['Contribution %'], \n",
    "                                                                                         ascending=False)\n",
    "                                                                             .iloc[0]))"
   ]
  },
  {
   "cell_type": "markdown",
   "metadata": {},
   "source": [
    "# Predicting Topics for New Research Papers"
   ]
  },
  {
   "cell_type": "markdown",
   "metadata": {},
   "source": [
    "Even though topic models are unsupervised models, we can estimate or predict\n",
    "potential topics for new documents based on what it has learned previously on the\n",
    "so-called “training” corpus."
   ]
  },
  {
   "cell_type": "markdown",
   "metadata": {},
   "source": [
    "For testing our model, I have manually downloaded some\n",
    "recent papers from the NIPS 16 conference proceedings. Testing our model on these\n",
    "papers is going to be an interesting exercise."
   ]
  },
  {
   "cell_type": "code",
   "execution_count": 88,
   "metadata": {},
   "outputs": [
    {
     "name": "stdout",
     "output_type": "stream",
     "text": [
      "Total New Papers: 0\n"
     ]
    }
   ],
   "source": [
    "import glob\n",
    "# papers manually downloaded from NIPS 16\n",
    "#https://papers.nips.cc/paper/2016\n",
    "\n",
    "new_paper_files = glob.glob('nips16*.txt')\n",
    "new_papers = []\n",
    "for fn in new_paper_files:\n",
    "    with open(fn, encoding='utf-8', errors='ignore', mode='r+') as f:\n",
    "        data = f.read()\n",
    "        new_papers.append(data)\n",
    "              \n",
    "print('Total New Papers:', len(new_papers))"
   ]
  },
  {
   "cell_type": "code",
   "execution_count": 89,
   "metadata": {},
   "outputs": [],
   "source": [
    "def text_preprocessing_pipeline(documents, normalizer_fn, bigram_model):\n",
    "    norm_docs = normalizer_fn(documents)\n",
    "    norm_docs_bigrams = bigram_model[norm_docs]\n",
    "    return norm_docs_bigrams\n",
    "\n",
    "def bow_features_pipeline(tokenized_docs, dictionary):\n",
    "    paper_bow_features = [dictionary.doc2bow(text) \n",
    "                              for text in tokenized_docs]\n",
    "    return paper_bow_features\n",
    "\n",
    "norm_new_papers = text_preprocessing_pipeline(documents=new_papers, normalizer_fn=normalize_corpus, \n",
    "                                              bigram_model=bigram_model)\n",
    "norm_bow_features = bow_features_pipeline(tokenized_docs=norm_new_papers, dictionary=dictionary)"
   ]
  },
  {
   "cell_type": "code",
   "execution_count": null,
   "metadata": {},
   "outputs": [],
   "source": []
  }
 ],
 "metadata": {
  "kernelspec": {
   "display_name": "Python 3",
   "language": "python",
   "name": "python3"
  },
  "language_info": {
   "codemirror_mode": {
    "name": "ipython",
    "version": 3
   },
   "file_extension": ".py",
   "mimetype": "text/x-python",
   "name": "python",
   "nbconvert_exporter": "python",
   "pygments_lexer": "ipython3",
   "version": "3.7.3"
  }
 },
 "nbformat": 4,
 "nbformat_minor": 2
}
