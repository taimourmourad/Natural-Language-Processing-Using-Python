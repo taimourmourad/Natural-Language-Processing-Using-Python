{
 "cells": [
  {
   "cell_type": "markdown",
   "metadata": {},
   "source": [
    "***leverage the base Stanford NLP NER tagger now***"
   ]
  },
  {
   "cell_type": "markdown",
   "metadata": {},
   "source": [
    "using the relevant JAR files\n",
    "and the corresponding NLTK wrapper"
   ]
  },
  {
   "cell_type": "code",
   "execution_count": 39,
   "metadata": {},
   "outputs": [],
   "source": [
    "import os\n",
    "from nltk.tag import StanfordNERTagger"
   ]
  },
  {
   "cell_type": "code",
   "execution_count": 46,
   "metadata": {},
   "outputs": [],
   "source": [
    "JAVA_PATH = r'/usr/lib/jvm/java-1.11.0-openjdk-amd64'\n",
    "os.environ['JAVAHOME'] = JAVA_PATH\n",
    "STANFORD_CLASSIFIER_PATH = '/media/tevo/6F1B461142DF12B3/Courses/NLP/Repository/NLP/Stanford/stanford-ner-4.2.0/stanford-ner-2020-11-17/classifiers/english.all.3class.distsim.crf.ser.gz'\n",
    "STANDFORD_NER_JAR_PATH = '/media/tevo/6F1B461142DF12B3/Courses/NLP/Repository/NLP/Stanford/stanford-ner-4.2.0/stanford-ner-2020-11-17/stanford-ner.jar'\n",
    "sn = StanfordNERTagger(STANFORD_CLASSIFIER_PATH,path_to_jar = STANDFORD_NER_JAR_PATH)"
   ]
  },
  {
   "cell_type": "code",
   "execution_count": 47,
   "metadata": {},
   "outputs": [
    {
     "name": "stdout",
     "output_type": "stream",
     "text": [
      "[('Facebooks', 'ORGANIZATION'), ('Latvia', 'LOCATION'), ('Singapore', 'LOCATION'), ('London', 'LOCATION'), ('CambridgeAnalytica', 'ORGANIZATION'), ('Facebook', 'ORGANIZATION'), ('Senate', 'ORGANIZATION'), ('House', 'ORGANIZATION'), ('Europeanparliament.Facebook', 'ORGANIZATION'), ('UK', 'LOCATION'), ('NewYorkTimes', 'ORGANIZATION'), ('Facebook', 'ORGANIZATION')]\n"
     ]
    }
   ],
   "source": [
    "text_enc = text.encode('ascii', errors='ignore').decode('utf-8')\n",
    "ner_tagged = sn.tag(text_enc.split())\n",
    "\n",
    "named_entities = []\n",
    "temp_entity_name = ''\n",
    "temp_named_entity = None\n",
    "for term, tag in ner_tagged:\n",
    "    if tag != 'O':\n",
    "        temp_entity_name = ''.join([temp_entity_name, term]).strip()\n",
    "        temp_named_entity = (temp_entity_name, tag)\n",
    "    else:\n",
    "        if temp_named_entity:\n",
    "            named_entities.append(temp_named_entity)\n",
    "            temp_entity_name = ''\n",
    "            temp_named_entity = None\n",
    "print(named_entities)"
   ]
  }
 ],
 "metadata": {
  "kernelspec": {
   "display_name": "Python 3",
   "language": "python",
   "name": "python3"
  }
 },
 "nbformat": 4,
 "nbformat_minor": 4
}
